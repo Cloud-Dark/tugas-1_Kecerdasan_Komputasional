{
  "cells": [
    {
      "cell_type": "markdown",
      "metadata": {
        "id": "view-in-github",
        "colab_type": "text"
      },
      "source": [
        "<a href=\"https://colab.research.google.com/github/Cloud-Dark/tugas-1_komputasi_berbasis_jaringan/blob/main/__notebook__.ipynb\" target=\"_parent\"><img src=\"https://colab.research.google.com/assets/colab-badge.svg\" alt=\"Open In Colab\"/></a>"
      ]
    },
    {
      "cell_type": "markdown",
      "metadata": {
        "id": "SzXvqnXn1KFz"
      },
      "source": [
        "<font color = 'red'>\n",
        "<h1>Analysis of Absenteeism<h1>\n",
        "    \n",
        "<hr>"
      ]
    },
    {
      "cell_type": "markdown",
      "metadata": {
        "id": "i32HCrVy1KF2"
      },
      "source": [
        "# Introduction\n",
        "* Feature Engineering Technics\n",
        "\n",
        "<br>\n",
        "<br>\n",
        "<font color = 'blue'>\n",
        "<b>Content: </b>\n",
        "\n",
        "1. [Load Libraries](#1)\n",
        "1. [Load Dataset](#2)\n",
        "1. [Basic Data Analysis](#3)\n",
        "1. [Feature Engineering Part-1](#4)\n",
        "    * [Remove Constant Features](#5)\n",
        "    * [Remove Quasi-Constant Features](#6)\n",
        "    * [Remove Duplicate Features](#7)\n",
        "    * [Remove Correlation Feature](#8)\n",
        "    * [Remove Unnecessary Features](#9)   \n",
        "1. [Observe Reason for Absence](#10)\n",
        "1. [Feature Engineering Part-2](#11)\n",
        "1. [Logistic Regression](#12)\n",
        "    * [Standardize The Data](#13)\n",
        "    * [Train-Test Split of Data](#14)\n",
        "    * [Model](#15)\n",
        "    * [Finding The Intercept & Coefficients](#16)\n",
        "    * [Save The Model](#17)  \n",
        "\n",
        "\n",
        "    \n",
        "<hr>\n",
        "   "
      ]
    },
    {
      "cell_type": "markdown",
      "metadata": {
        "id": "Pmjmn_hT1KF2"
      },
      "source": [
        "<a id = \"1\"></a><br>\n",
        "## Load Libraries"
      ]
    },
    {
      "cell_type": "code",
      "execution_count": 1,
      "metadata": {
        "_cell_guid": "b1076dfc-b9ad-4769-8c92-a6c4dae69d19",
        "_uuid": "8f2839f25d086af736a60e9eeb907d3b93b6e0e5",
        "scrolled": false,
        "id": "0g0lLYge1KF3"
      },
      "outputs": [],
      "source": [
        "import numpy as np # linear algebra\n",
        "import pandas as pd # data processing, CSV file I/O (e.g. pd.read_csv)\n",
        "from sklearn.feature_selection import VarianceThreshold\n",
        "import os\n",
        "for dirname, _, filenames in os.walk('/kaggle/input'):\n",
        "    for filename in filenames:\n",
        "        print(os.path.join(dirname, filename))\n"
      ]
    },
    {
      "cell_type": "markdown",
      "metadata": {
        "id": "esJz0GqO1KF4"
      },
      "source": [
        "<a id = \"2\"></a><br>\n",
        "## Load Dataset"
      ]
    },
    {
      "cell_type": "code",
      "execution_count": 2,
      "metadata": {
        "_cell_guid": "79c7e3d0-c299-4dcb-8224-4455121ee9b0",
        "_uuid": "d629ff2d2480ee46fbb7e2d37f6b5fab8052498a",
        "scrolled": false,
        "colab": {
          "base_uri": "https://localhost:8080/",
          "height": 340
        },
        "id": "xYV4FEgX1KF5",
        "outputId": "b575b7d1-9894-464e-fcb7-ce9a9ea2fd6f"
      },
      "outputs": [
        {
          "output_type": "error",
          "ename": "FileNotFoundError",
          "evalue": "ignored",
          "traceback": [
            "\u001b[0;31m---------------------------------------------------------------------------\u001b[0m",
            "\u001b[0;31mFileNotFoundError\u001b[0m                         Traceback (most recent call last)",
            "\u001b[0;32m<ipython-input-2-2ae23d8da4b0>\u001b[0m in \u001b[0;36m<module>\u001b[0;34m\u001b[0m\n\u001b[0;32m----> 1\u001b[0;31m \u001b[0mdata\u001b[0m \u001b[0;34m=\u001b[0m \u001b[0mpd\u001b[0m\u001b[0;34m.\u001b[0m\u001b[0mread_csv\u001b[0m\u001b[0;34m(\u001b[0m\u001b[0;34m\"/kaggle/input/employee-absenteeism-prediction/Absenteeism-data.csv\"\u001b[0m\u001b[0;34m)\u001b[0m\u001b[0;34m\u001b[0m\u001b[0;34m\u001b[0m\u001b[0m\n\u001b[0m\u001b[1;32m      2\u001b[0m \u001b[0mdata\u001b[0m\u001b[0;34m.\u001b[0m\u001b[0mhead\u001b[0m\u001b[0;34m(\u001b[0m\u001b[0;34m)\u001b[0m\u001b[0;34m\u001b[0m\u001b[0;34m\u001b[0m\u001b[0m\n",
            "\u001b[0;32m/usr/local/lib/python3.7/dist-packages/pandas/util/_decorators.py\u001b[0m in \u001b[0;36mwrapper\u001b[0;34m(*args, **kwargs)\u001b[0m\n\u001b[1;32m    309\u001b[0m                     \u001b[0mstacklevel\u001b[0m\u001b[0;34m=\u001b[0m\u001b[0mstacklevel\u001b[0m\u001b[0;34m,\u001b[0m\u001b[0;34m\u001b[0m\u001b[0;34m\u001b[0m\u001b[0m\n\u001b[1;32m    310\u001b[0m                 )\n\u001b[0;32m--> 311\u001b[0;31m             \u001b[0;32mreturn\u001b[0m \u001b[0mfunc\u001b[0m\u001b[0;34m(\u001b[0m\u001b[0;34m*\u001b[0m\u001b[0margs\u001b[0m\u001b[0;34m,\u001b[0m \u001b[0;34m**\u001b[0m\u001b[0mkwargs\u001b[0m\u001b[0;34m)\u001b[0m\u001b[0;34m\u001b[0m\u001b[0;34m\u001b[0m\u001b[0m\n\u001b[0m\u001b[1;32m    312\u001b[0m \u001b[0;34m\u001b[0m\u001b[0m\n\u001b[1;32m    313\u001b[0m         \u001b[0;32mreturn\u001b[0m \u001b[0mwrapper\u001b[0m\u001b[0;34m\u001b[0m\u001b[0;34m\u001b[0m\u001b[0m\n",
            "\u001b[0;32m/usr/local/lib/python3.7/dist-packages/pandas/io/parsers/readers.py\u001b[0m in \u001b[0;36mread_csv\u001b[0;34m(filepath_or_buffer, sep, delimiter, header, names, index_col, usecols, squeeze, prefix, mangle_dupe_cols, dtype, engine, converters, true_values, false_values, skipinitialspace, skiprows, skipfooter, nrows, na_values, keep_default_na, na_filter, verbose, skip_blank_lines, parse_dates, infer_datetime_format, keep_date_col, date_parser, dayfirst, cache_dates, iterator, chunksize, compression, thousands, decimal, lineterminator, quotechar, quoting, doublequote, escapechar, comment, encoding, encoding_errors, dialect, error_bad_lines, warn_bad_lines, on_bad_lines, delim_whitespace, low_memory, memory_map, float_precision, storage_options)\u001b[0m\n\u001b[1;32m    584\u001b[0m     \u001b[0mkwds\u001b[0m\u001b[0;34m.\u001b[0m\u001b[0mupdate\u001b[0m\u001b[0;34m(\u001b[0m\u001b[0mkwds_defaults\u001b[0m\u001b[0;34m)\u001b[0m\u001b[0;34m\u001b[0m\u001b[0;34m\u001b[0m\u001b[0m\n\u001b[1;32m    585\u001b[0m \u001b[0;34m\u001b[0m\u001b[0m\n\u001b[0;32m--> 586\u001b[0;31m     \u001b[0;32mreturn\u001b[0m \u001b[0m_read\u001b[0m\u001b[0;34m(\u001b[0m\u001b[0mfilepath_or_buffer\u001b[0m\u001b[0;34m,\u001b[0m \u001b[0mkwds\u001b[0m\u001b[0;34m)\u001b[0m\u001b[0;34m\u001b[0m\u001b[0;34m\u001b[0m\u001b[0m\n\u001b[0m\u001b[1;32m    587\u001b[0m \u001b[0;34m\u001b[0m\u001b[0m\n\u001b[1;32m    588\u001b[0m \u001b[0;34m\u001b[0m\u001b[0m\n",
            "\u001b[0;32m/usr/local/lib/python3.7/dist-packages/pandas/io/parsers/readers.py\u001b[0m in \u001b[0;36m_read\u001b[0;34m(filepath_or_buffer, kwds)\u001b[0m\n\u001b[1;32m    480\u001b[0m \u001b[0;34m\u001b[0m\u001b[0m\n\u001b[1;32m    481\u001b[0m     \u001b[0;31m# Create the parser.\u001b[0m\u001b[0;34m\u001b[0m\u001b[0;34m\u001b[0m\u001b[0;34m\u001b[0m\u001b[0m\n\u001b[0;32m--> 482\u001b[0;31m     \u001b[0mparser\u001b[0m \u001b[0;34m=\u001b[0m \u001b[0mTextFileReader\u001b[0m\u001b[0;34m(\u001b[0m\u001b[0mfilepath_or_buffer\u001b[0m\u001b[0;34m,\u001b[0m \u001b[0;34m**\u001b[0m\u001b[0mkwds\u001b[0m\u001b[0;34m)\u001b[0m\u001b[0;34m\u001b[0m\u001b[0;34m\u001b[0m\u001b[0m\n\u001b[0m\u001b[1;32m    483\u001b[0m \u001b[0;34m\u001b[0m\u001b[0m\n\u001b[1;32m    484\u001b[0m     \u001b[0;32mif\u001b[0m \u001b[0mchunksize\u001b[0m \u001b[0;32mor\u001b[0m \u001b[0miterator\u001b[0m\u001b[0;34m:\u001b[0m\u001b[0;34m\u001b[0m\u001b[0;34m\u001b[0m\u001b[0m\n",
            "\u001b[0;32m/usr/local/lib/python3.7/dist-packages/pandas/io/parsers/readers.py\u001b[0m in \u001b[0;36m__init__\u001b[0;34m(self, f, engine, **kwds)\u001b[0m\n\u001b[1;32m    809\u001b[0m             \u001b[0mself\u001b[0m\u001b[0;34m.\u001b[0m\u001b[0moptions\u001b[0m\u001b[0;34m[\u001b[0m\u001b[0;34m\"has_index_names\"\u001b[0m\u001b[0;34m]\u001b[0m \u001b[0;34m=\u001b[0m \u001b[0mkwds\u001b[0m\u001b[0;34m[\u001b[0m\u001b[0;34m\"has_index_names\"\u001b[0m\u001b[0;34m]\u001b[0m\u001b[0;34m\u001b[0m\u001b[0;34m\u001b[0m\u001b[0m\n\u001b[1;32m    810\u001b[0m \u001b[0;34m\u001b[0m\u001b[0m\n\u001b[0;32m--> 811\u001b[0;31m         \u001b[0mself\u001b[0m\u001b[0;34m.\u001b[0m\u001b[0m_engine\u001b[0m \u001b[0;34m=\u001b[0m \u001b[0mself\u001b[0m\u001b[0;34m.\u001b[0m\u001b[0m_make_engine\u001b[0m\u001b[0;34m(\u001b[0m\u001b[0mself\u001b[0m\u001b[0;34m.\u001b[0m\u001b[0mengine\u001b[0m\u001b[0;34m)\u001b[0m\u001b[0;34m\u001b[0m\u001b[0;34m\u001b[0m\u001b[0m\n\u001b[0m\u001b[1;32m    812\u001b[0m \u001b[0;34m\u001b[0m\u001b[0m\n\u001b[1;32m    813\u001b[0m     \u001b[0;32mdef\u001b[0m \u001b[0mclose\u001b[0m\u001b[0;34m(\u001b[0m\u001b[0mself\u001b[0m\u001b[0;34m)\u001b[0m\u001b[0;34m:\u001b[0m\u001b[0;34m\u001b[0m\u001b[0;34m\u001b[0m\u001b[0m\n",
            "\u001b[0;32m/usr/local/lib/python3.7/dist-packages/pandas/io/parsers/readers.py\u001b[0m in \u001b[0;36m_make_engine\u001b[0;34m(self, engine)\u001b[0m\n\u001b[1;32m   1038\u001b[0m             )\n\u001b[1;32m   1039\u001b[0m         \u001b[0;31m# error: Too many arguments for \"ParserBase\"\u001b[0m\u001b[0;34m\u001b[0m\u001b[0;34m\u001b[0m\u001b[0;34m\u001b[0m\u001b[0m\n\u001b[0;32m-> 1040\u001b[0;31m         \u001b[0;32mreturn\u001b[0m \u001b[0mmapping\u001b[0m\u001b[0;34m[\u001b[0m\u001b[0mengine\u001b[0m\u001b[0;34m]\u001b[0m\u001b[0;34m(\u001b[0m\u001b[0mself\u001b[0m\u001b[0;34m.\u001b[0m\u001b[0mf\u001b[0m\u001b[0;34m,\u001b[0m \u001b[0;34m**\u001b[0m\u001b[0mself\u001b[0m\u001b[0;34m.\u001b[0m\u001b[0moptions\u001b[0m\u001b[0;34m)\u001b[0m  \u001b[0;31m# type: ignore[call-arg]\u001b[0m\u001b[0;34m\u001b[0m\u001b[0;34m\u001b[0m\u001b[0m\n\u001b[0m\u001b[1;32m   1041\u001b[0m \u001b[0;34m\u001b[0m\u001b[0m\n\u001b[1;32m   1042\u001b[0m     \u001b[0;32mdef\u001b[0m \u001b[0m_failover_to_python\u001b[0m\u001b[0;34m(\u001b[0m\u001b[0mself\u001b[0m\u001b[0;34m)\u001b[0m\u001b[0;34m:\u001b[0m\u001b[0;34m\u001b[0m\u001b[0;34m\u001b[0m\u001b[0m\n",
            "\u001b[0;32m/usr/local/lib/python3.7/dist-packages/pandas/io/parsers/c_parser_wrapper.py\u001b[0m in \u001b[0;36m__init__\u001b[0;34m(self, src, **kwds)\u001b[0m\n\u001b[1;32m     49\u001b[0m \u001b[0;34m\u001b[0m\u001b[0m\n\u001b[1;32m     50\u001b[0m         \u001b[0;31m# open handles\u001b[0m\u001b[0;34m\u001b[0m\u001b[0;34m\u001b[0m\u001b[0;34m\u001b[0m\u001b[0m\n\u001b[0;32m---> 51\u001b[0;31m         \u001b[0mself\u001b[0m\u001b[0;34m.\u001b[0m\u001b[0m_open_handles\u001b[0m\u001b[0;34m(\u001b[0m\u001b[0msrc\u001b[0m\u001b[0;34m,\u001b[0m \u001b[0mkwds\u001b[0m\u001b[0;34m)\u001b[0m\u001b[0;34m\u001b[0m\u001b[0;34m\u001b[0m\u001b[0m\n\u001b[0m\u001b[1;32m     52\u001b[0m         \u001b[0;32massert\u001b[0m \u001b[0mself\u001b[0m\u001b[0;34m.\u001b[0m\u001b[0mhandles\u001b[0m \u001b[0;32mis\u001b[0m \u001b[0;32mnot\u001b[0m \u001b[0;32mNone\u001b[0m\u001b[0;34m\u001b[0m\u001b[0;34m\u001b[0m\u001b[0m\n\u001b[1;32m     53\u001b[0m \u001b[0;34m\u001b[0m\u001b[0m\n",
            "\u001b[0;32m/usr/local/lib/python3.7/dist-packages/pandas/io/parsers/base_parser.py\u001b[0m in \u001b[0;36m_open_handles\u001b[0;34m(self, src, kwds)\u001b[0m\n\u001b[1;32m    227\u001b[0m             \u001b[0mmemory_map\u001b[0m\u001b[0;34m=\u001b[0m\u001b[0mkwds\u001b[0m\u001b[0;34m.\u001b[0m\u001b[0mget\u001b[0m\u001b[0;34m(\u001b[0m\u001b[0;34m\"memory_map\"\u001b[0m\u001b[0;34m,\u001b[0m \u001b[0;32mFalse\u001b[0m\u001b[0;34m)\u001b[0m\u001b[0;34m,\u001b[0m\u001b[0;34m\u001b[0m\u001b[0;34m\u001b[0m\u001b[0m\n\u001b[1;32m    228\u001b[0m             \u001b[0mstorage_options\u001b[0m\u001b[0;34m=\u001b[0m\u001b[0mkwds\u001b[0m\u001b[0;34m.\u001b[0m\u001b[0mget\u001b[0m\u001b[0;34m(\u001b[0m\u001b[0;34m\"storage_options\"\u001b[0m\u001b[0;34m,\u001b[0m \u001b[0;32mNone\u001b[0m\u001b[0;34m)\u001b[0m\u001b[0;34m,\u001b[0m\u001b[0;34m\u001b[0m\u001b[0;34m\u001b[0m\u001b[0m\n\u001b[0;32m--> 229\u001b[0;31m             \u001b[0merrors\u001b[0m\u001b[0;34m=\u001b[0m\u001b[0mkwds\u001b[0m\u001b[0;34m.\u001b[0m\u001b[0mget\u001b[0m\u001b[0;34m(\u001b[0m\u001b[0;34m\"encoding_errors\"\u001b[0m\u001b[0;34m,\u001b[0m \u001b[0;34m\"strict\"\u001b[0m\u001b[0;34m)\u001b[0m\u001b[0;34m,\u001b[0m\u001b[0;34m\u001b[0m\u001b[0;34m\u001b[0m\u001b[0m\n\u001b[0m\u001b[1;32m    230\u001b[0m         )\n\u001b[1;32m    231\u001b[0m \u001b[0;34m\u001b[0m\u001b[0m\n",
            "\u001b[0;32m/usr/local/lib/python3.7/dist-packages/pandas/io/common.py\u001b[0m in \u001b[0;36mget_handle\u001b[0;34m(path_or_buf, mode, encoding, compression, memory_map, is_text, errors, storage_options)\u001b[0m\n\u001b[1;32m    705\u001b[0m                 \u001b[0mencoding\u001b[0m\u001b[0;34m=\u001b[0m\u001b[0mioargs\u001b[0m\u001b[0;34m.\u001b[0m\u001b[0mencoding\u001b[0m\u001b[0;34m,\u001b[0m\u001b[0;34m\u001b[0m\u001b[0;34m\u001b[0m\u001b[0m\n\u001b[1;32m    706\u001b[0m                 \u001b[0merrors\u001b[0m\u001b[0;34m=\u001b[0m\u001b[0merrors\u001b[0m\u001b[0;34m,\u001b[0m\u001b[0;34m\u001b[0m\u001b[0;34m\u001b[0m\u001b[0m\n\u001b[0;32m--> 707\u001b[0;31m                 \u001b[0mnewline\u001b[0m\u001b[0;34m=\u001b[0m\u001b[0;34m\"\"\u001b[0m\u001b[0;34m,\u001b[0m\u001b[0;34m\u001b[0m\u001b[0;34m\u001b[0m\u001b[0m\n\u001b[0m\u001b[1;32m    708\u001b[0m             )\n\u001b[1;32m    709\u001b[0m         \u001b[0;32melse\u001b[0m\u001b[0;34m:\u001b[0m\u001b[0;34m\u001b[0m\u001b[0;34m\u001b[0m\u001b[0m\n",
            "\u001b[0;31mFileNotFoundError\u001b[0m: [Errno 2] No such file or directory: '/kaggle/input/employee-absenteeism-prediction/Absenteeism-data.csv'"
          ]
        }
      ],
      "source": [
        "data = pd.read_csv(\"/kaggle/input/employee-absenteeism-prediction/Absenteeism-data.csv\")\n",
        "data.head()"
      ]
    },
    {
      "cell_type": "markdown",
      "metadata": {
        "id": "4wUXEpBs1KF5"
      },
      "source": [
        "<a id = \"3\"></a><br>\n",
        "## Basic Data Analysis"
      ]
    },
    {
      "cell_type": "code",
      "execution_count": null,
      "metadata": {
        "id": "eHBNbhwi1KF5",
        "outputId": "ccc20b2f-a74a-4240-91e2-d7e5ef51947f"
      },
      "outputs": [
        {
          "data": {
            "text/html": [
              "<div>\n",
              "<style scoped>\n",
              "    .dataframe tbody tr th:only-of-type {\n",
              "        vertical-align: middle;\n",
              "    }\n",
              "\n",
              "    .dataframe tbody tr th {\n",
              "        vertical-align: top;\n",
              "    }\n",
              "\n",
              "    .dataframe thead th {\n",
              "        text-align: right;\n",
              "    }\n",
              "</style>\n",
              "<table border=\"1\" class=\"dataframe\">\n",
              "  <thead>\n",
              "    <tr style=\"text-align: right;\">\n",
              "      <th></th>\n",
              "      <th>ID</th>\n",
              "      <th>Reason for Absence</th>\n",
              "      <th>Transportation Expense</th>\n",
              "      <th>Distance to Work</th>\n",
              "      <th>Age</th>\n",
              "      <th>Daily Work Load Average</th>\n",
              "      <th>Body Mass Index</th>\n",
              "      <th>Education</th>\n",
              "      <th>Children</th>\n",
              "      <th>Pets</th>\n",
              "      <th>Absenteeism Time in Hours</th>\n",
              "    </tr>\n",
              "  </thead>\n",
              "  <tbody>\n",
              "    <tr>\n",
              "      <th>count</th>\n",
              "      <td>700.000000</td>\n",
              "      <td>700.000000</td>\n",
              "      <td>700.000000</td>\n",
              "      <td>700.000000</td>\n",
              "      <td>700.000000</td>\n",
              "      <td>700.000000</td>\n",
              "      <td>700.000000</td>\n",
              "      <td>700.000000</td>\n",
              "      <td>700.000000</td>\n",
              "      <td>700.000000</td>\n",
              "      <td>700.000000</td>\n",
              "    </tr>\n",
              "    <tr>\n",
              "      <th>mean</th>\n",
              "      <td>17.951429</td>\n",
              "      <td>19.411429</td>\n",
              "      <td>222.347143</td>\n",
              "      <td>29.892857</td>\n",
              "      <td>36.417143</td>\n",
              "      <td>271.801774</td>\n",
              "      <td>26.737143</td>\n",
              "      <td>1.282857</td>\n",
              "      <td>1.021429</td>\n",
              "      <td>0.687143</td>\n",
              "      <td>6.761429</td>\n",
              "    </tr>\n",
              "    <tr>\n",
              "      <th>std</th>\n",
              "      <td>11.028144</td>\n",
              "      <td>8.356292</td>\n",
              "      <td>66.312960</td>\n",
              "      <td>14.804446</td>\n",
              "      <td>6.379083</td>\n",
              "      <td>40.021804</td>\n",
              "      <td>4.254701</td>\n",
              "      <td>0.668090</td>\n",
              "      <td>1.112215</td>\n",
              "      <td>1.166095</td>\n",
              "      <td>12.670082</td>\n",
              "    </tr>\n",
              "    <tr>\n",
              "      <th>min</th>\n",
              "      <td>1.000000</td>\n",
              "      <td>0.000000</td>\n",
              "      <td>118.000000</td>\n",
              "      <td>5.000000</td>\n",
              "      <td>27.000000</td>\n",
              "      <td>205.917000</td>\n",
              "      <td>19.000000</td>\n",
              "      <td>1.000000</td>\n",
              "      <td>0.000000</td>\n",
              "      <td>0.000000</td>\n",
              "      <td>0.000000</td>\n",
              "    </tr>\n",
              "    <tr>\n",
              "      <th>25%</th>\n",
              "      <td>9.000000</td>\n",
              "      <td>13.000000</td>\n",
              "      <td>179.000000</td>\n",
              "      <td>16.000000</td>\n",
              "      <td>31.000000</td>\n",
              "      <td>241.476000</td>\n",
              "      <td>24.000000</td>\n",
              "      <td>1.000000</td>\n",
              "      <td>0.000000</td>\n",
              "      <td>0.000000</td>\n",
              "      <td>2.000000</td>\n",
              "    </tr>\n",
              "    <tr>\n",
              "      <th>50%</th>\n",
              "      <td>18.000000</td>\n",
              "      <td>23.000000</td>\n",
              "      <td>225.000000</td>\n",
              "      <td>26.000000</td>\n",
              "      <td>37.000000</td>\n",
              "      <td>264.249000</td>\n",
              "      <td>25.000000</td>\n",
              "      <td>1.000000</td>\n",
              "      <td>1.000000</td>\n",
              "      <td>0.000000</td>\n",
              "      <td>3.000000</td>\n",
              "    </tr>\n",
              "    <tr>\n",
              "      <th>75%</th>\n",
              "      <td>28.000000</td>\n",
              "      <td>27.000000</td>\n",
              "      <td>260.000000</td>\n",
              "      <td>50.000000</td>\n",
              "      <td>40.000000</td>\n",
              "      <td>294.217000</td>\n",
              "      <td>31.000000</td>\n",
              "      <td>1.000000</td>\n",
              "      <td>2.000000</td>\n",
              "      <td>1.000000</td>\n",
              "      <td>8.000000</td>\n",
              "    </tr>\n",
              "    <tr>\n",
              "      <th>max</th>\n",
              "      <td>36.000000</td>\n",
              "      <td>28.000000</td>\n",
              "      <td>388.000000</td>\n",
              "      <td>52.000000</td>\n",
              "      <td>58.000000</td>\n",
              "      <td>378.884000</td>\n",
              "      <td>38.000000</td>\n",
              "      <td>4.000000</td>\n",
              "      <td>4.000000</td>\n",
              "      <td>8.000000</td>\n",
              "      <td>120.000000</td>\n",
              "    </tr>\n",
              "  </tbody>\n",
              "</table>\n",
              "</div>"
            ],
            "text/plain": [
              "               ID  Reason for Absence  Transportation Expense  \\\n",
              "count  700.000000          700.000000              700.000000   \n",
              "mean    17.951429           19.411429              222.347143   \n",
              "std     11.028144            8.356292               66.312960   \n",
              "min      1.000000            0.000000              118.000000   \n",
              "25%      9.000000           13.000000              179.000000   \n",
              "50%     18.000000           23.000000              225.000000   \n",
              "75%     28.000000           27.000000              260.000000   \n",
              "max     36.000000           28.000000              388.000000   \n",
              "\n",
              "       Distance to Work         Age  Daily Work Load Average  Body Mass Index  \\\n",
              "count        700.000000  700.000000               700.000000       700.000000   \n",
              "mean          29.892857   36.417143               271.801774        26.737143   \n",
              "std           14.804446    6.379083                40.021804         4.254701   \n",
              "min            5.000000   27.000000               205.917000        19.000000   \n",
              "25%           16.000000   31.000000               241.476000        24.000000   \n",
              "50%           26.000000   37.000000               264.249000        25.000000   \n",
              "75%           50.000000   40.000000               294.217000        31.000000   \n",
              "max           52.000000   58.000000               378.884000        38.000000   \n",
              "\n",
              "        Education    Children        Pets  Absenteeism Time in Hours  \n",
              "count  700.000000  700.000000  700.000000                 700.000000  \n",
              "mean     1.282857    1.021429    0.687143                   6.761429  \n",
              "std      0.668090    1.112215    1.166095                  12.670082  \n",
              "min      1.000000    0.000000    0.000000                   0.000000  \n",
              "25%      1.000000    0.000000    0.000000                   2.000000  \n",
              "50%      1.000000    1.000000    0.000000                   3.000000  \n",
              "75%      1.000000    2.000000    1.000000                   8.000000  \n",
              "max      4.000000    4.000000    8.000000                 120.000000  "
            ]
          },
          "execution_count": 3,
          "metadata": {},
          "output_type": "execute_result"
        }
      ],
      "source": [
        "data.describe()"
      ]
    },
    {
      "cell_type": "code",
      "execution_count": null,
      "metadata": {
        "scrolled": false,
        "id": "WDoY0DEA1KF6",
        "outputId": "14b31a02-6507-4fdb-91e8-f32601b7e557"
      },
      "outputs": [
        {
          "data": {
            "text/plain": [
              "ID                           0\n",
              "Reason for Absence           0\n",
              "Date                         0\n",
              "Transportation Expense       0\n",
              "Distance to Work             0\n",
              "Age                          0\n",
              "Daily Work Load Average      0\n",
              "Body Mass Index              0\n",
              "Education                    0\n",
              "Children                     0\n",
              "Pets                         0\n",
              "Absenteeism Time in Hours    0\n",
              "dtype: int64"
            ]
          },
          "execution_count": 4,
          "metadata": {},
          "output_type": "execute_result"
        }
      ],
      "source": [
        "data.isnull().sum()"
      ]
    },
    {
      "cell_type": "code",
      "execution_count": null,
      "metadata": {
        "scrolled": true,
        "id": "Uyj38tMQ1KF6"
      },
      "outputs": [],
      "source": [
        "# if you want to see all columns and raws:\n",
        "# pd.options.display.max_columns = None\n",
        "# pd.options.display.max_rows = None\n",
        "# display(data)"
      ]
    },
    {
      "cell_type": "code",
      "execution_count": null,
      "metadata": {
        "scrolled": false,
        "id": "J3Ug3G1M1KF6",
        "outputId": "76c0eaaa-b8ac-4ff6-aa84-d8ad9c4163a9"
      },
      "outputs": [
        {
          "name": "stdout",
          "output_type": "stream",
          "text": [
            "<class 'pandas.core.frame.DataFrame'>\n",
            "RangeIndex: 700 entries, 0 to 699\n",
            "Data columns (total 12 columns):\n",
            " #   Column                     Non-Null Count  Dtype  \n",
            "---  ------                     --------------  -----  \n",
            " 0   ID                         700 non-null    int64  \n",
            " 1   Reason for Absence         700 non-null    int64  \n",
            " 2   Date                       700 non-null    object \n",
            " 3   Transportation Expense     700 non-null    int64  \n",
            " 4   Distance to Work           700 non-null    int64  \n",
            " 5   Age                        700 non-null    int64  \n",
            " 6   Daily Work Load Average    700 non-null    float64\n",
            " 7   Body Mass Index            700 non-null    int64  \n",
            " 8   Education                  700 non-null    int64  \n",
            " 9   Children                   700 non-null    int64  \n",
            " 10  Pets                       700 non-null    int64  \n",
            " 11  Absenteeism Time in Hours  700 non-null    int64  \n",
            "dtypes: float64(1), int64(10), object(1)\n",
            "memory usage: 65.8+ KB\n"
          ]
        }
      ],
      "source": [
        "data.info()"
      ]
    },
    {
      "cell_type": "code",
      "execution_count": null,
      "metadata": {
        "scrolled": false,
        "id": "5TETsS5o1KF6",
        "outputId": "e70cf7df-3630-44f4-b7da-b3bd213d8870"
      },
      "outputs": [
        {
          "data": {
            "text/plain": [
              "(700, 12)"
            ]
          },
          "execution_count": 7,
          "metadata": {},
          "output_type": "execute_result"
        }
      ],
      "source": [
        "data.shape"
      ]
    },
    {
      "cell_type": "markdown",
      "metadata": {
        "id": "cfF_CSxN1KF7"
      },
      "source": [
        "<a id = \"4\"></a><br>\n",
        "## Feature Engineering"
      ]
    },
    {
      "cell_type": "markdown",
      "metadata": {
        "id": "ddPI89Ng1KF7"
      },
      "source": [
        "<a id = \"5\"></a><br>\n",
        "## Remove Constant Features"
      ]
    },
    {
      "cell_type": "code",
      "execution_count": null,
      "metadata": {
        "id": "nrmmEMkM1KF7",
        "outputId": "df196643-ce81-4cce-8fdd-73a413b9aafa"
      },
      "outputs": [
        {
          "data": {
            "text/plain": [
              "(700, 11)"
            ]
          },
          "execution_count": 8,
          "metadata": {},
          "output_type": "execute_result"
        }
      ],
      "source": [
        "# here for simplicity I will use only numerical variables\n",
        "# select numerical columns:\n",
        "\n",
        "numerics = ['int16', 'int32', 'int64', 'float16', 'float32', 'float64']\n",
        "numerical_vars = list(data.select_dtypes(include=numerics).columns)\n",
        "data_numerical = data[numerical_vars]\n",
        "data_numerical.shape"
      ]
    },
    {
      "cell_type": "code",
      "execution_count": null,
      "metadata": {
        "id": "16rAoXn61KF8",
        "outputId": "5adf1a01-4023-4376-e420-4d1244a5c469"
      },
      "outputs": [
        {
          "data": {
            "text/plain": [
              "0"
            ]
          },
          "execution_count": 9,
          "metadata": {},
          "output_type": "execute_result"
        }
      ],
      "source": [
        "# remove constant features\n",
        "constant_features = [\n",
        "    feat for feat in data_numerical.columns if data_numerical[feat].std() == 0\n",
        "]\n",
        "\n",
        "len(constant_features)"
      ]
    },
    {
      "cell_type": "markdown",
      "metadata": {
        "id": "lSnxuCOJ1KF8"
      },
      "source": [
        "<a id = \"6\"></a><br>\n",
        "## Remove Quasi-Constant Features\n",
        "* There is no Quasi-Constant Feature"
      ]
    },
    {
      "cell_type": "code",
      "execution_count": null,
      "metadata": {
        "id": "oMk7bW-d1KF9",
        "outputId": "68ed2513-c9b0-4732-c380-760b492ebeb9"
      },
      "outputs": [
        {
          "data": {
            "text/plain": [
              "11"
            ]
          },
          "execution_count": 10,
          "metadata": {},
          "output_type": "execute_result"
        }
      ],
      "source": [
        "# remove quasi-constant features\n",
        "sel = VarianceThreshold(threshold=0.01) # 0.1 indicates 99% of observations approximately\n",
        "\n",
        "sel.fit(data_numerical)  # fit finds the features with low variance\n",
        "\n",
        "sum(sel.get_support()) # how many not quasi-constant?"
      ]
    },
    {
      "cell_type": "markdown",
      "metadata": {
        "id": "9ZJ85PU41KF9"
      },
      "source": [
        "<a id = \"7\"></a><br>\n",
        "## Remove Duplicate Features"
      ]
    },
    {
      "cell_type": "code",
      "execution_count": null,
      "metadata": {
        "scrolled": false,
        "id": "TnmurWwy1KF-",
        "outputId": "eeb24e12-a2a8-40f3-ff29-993e02178426"
      },
      "outputs": [
        {
          "data": {
            "text/plain": [
              "8"
            ]
          },
          "execution_count": 11,
          "metadata": {},
          "output_type": "execute_result"
        }
      ],
      "source": [
        "data.duplicated().sum()"
      ]
    },
    {
      "cell_type": "code",
      "execution_count": null,
      "metadata": {
        "scrolled": false,
        "id": "vlyWcLuS1KF-",
        "outputId": "daa488fe-c320-474f-edea-3d96bc1728fd"
      },
      "outputs": [
        {
          "data": {
            "text/html": [
              "<div>\n",
              "<style scoped>\n",
              "    .dataframe tbody tr th:only-of-type {\n",
              "        vertical-align: middle;\n",
              "    }\n",
              "\n",
              "    .dataframe tbody tr th {\n",
              "        vertical-align: top;\n",
              "    }\n",
              "\n",
              "    .dataframe thead th {\n",
              "        text-align: right;\n",
              "    }\n",
              "</style>\n",
              "<table border=\"1\" class=\"dataframe\">\n",
              "  <thead>\n",
              "    <tr style=\"text-align: right;\">\n",
              "      <th></th>\n",
              "      <th>ID</th>\n",
              "      <th>Reason for Absence</th>\n",
              "      <th>Date</th>\n",
              "      <th>Transportation Expense</th>\n",
              "      <th>Distance to Work</th>\n",
              "      <th>Age</th>\n",
              "      <th>Daily Work Load Average</th>\n",
              "      <th>Body Mass Index</th>\n",
              "      <th>Education</th>\n",
              "      <th>Children</th>\n",
              "      <th>Pets</th>\n",
              "      <th>Absenteeism Time in Hours</th>\n",
              "    </tr>\n",
              "  </thead>\n",
              "  <tbody>\n",
              "    <tr>\n",
              "      <th>127</th>\n",
              "      <td>34</td>\n",
              "      <td>27</td>\n",
              "      <td>11/01/2016</td>\n",
              "      <td>118</td>\n",
              "      <td>10</td>\n",
              "      <td>37</td>\n",
              "      <td>308.593</td>\n",
              "      <td>28</td>\n",
              "      <td>1</td>\n",
              "      <td>0</td>\n",
              "      <td>0</td>\n",
              "      <td>2</td>\n",
              "    </tr>\n",
              "    <tr>\n",
              "      <th>128</th>\n",
              "      <td>34</td>\n",
              "      <td>27</td>\n",
              "      <td>12/01/2016</td>\n",
              "      <td>118</td>\n",
              "      <td>10</td>\n",
              "      <td>37</td>\n",
              "      <td>308.593</td>\n",
              "      <td>28</td>\n",
              "      <td>1</td>\n",
              "      <td>0</td>\n",
              "      <td>0</td>\n",
              "      <td>2</td>\n",
              "    </tr>\n",
              "    <tr>\n",
              "      <th>131</th>\n",
              "      <td>34</td>\n",
              "      <td>27</td>\n",
              "      <td>13/01/2016</td>\n",
              "      <td>118</td>\n",
              "      <td>10</td>\n",
              "      <td>37</td>\n",
              "      <td>308.593</td>\n",
              "      <td>28</td>\n",
              "      <td>1</td>\n",
              "      <td>0</td>\n",
              "      <td>0</td>\n",
              "      <td>2</td>\n",
              "    </tr>\n",
              "    <tr>\n",
              "      <th>305</th>\n",
              "      <td>5</td>\n",
              "      <td>23</td>\n",
              "      <td>19/10/2016</td>\n",
              "      <td>235</td>\n",
              "      <td>20</td>\n",
              "      <td>43</td>\n",
              "      <td>265.017</td>\n",
              "      <td>38</td>\n",
              "      <td>1</td>\n",
              "      <td>1</td>\n",
              "      <td>0</td>\n",
              "      <td>2</td>\n",
              "    </tr>\n",
              "    <tr>\n",
              "      <th>388</th>\n",
              "      <td>3</td>\n",
              "      <td>27</td>\n",
              "      <td>22/02/2017</td>\n",
              "      <td>179</td>\n",
              "      <td>51</td>\n",
              "      <td>38</td>\n",
              "      <td>251.818</td>\n",
              "      <td>31</td>\n",
              "      <td>1</td>\n",
              "      <td>0</td>\n",
              "      <td>0</td>\n",
              "      <td>3</td>\n",
              "    </tr>\n",
              "    <tr>\n",
              "      <th>389</th>\n",
              "      <td>3</td>\n",
              "      <td>27</td>\n",
              "      <td>24/02/2017</td>\n",
              "      <td>179</td>\n",
              "      <td>51</td>\n",
              "      <td>38</td>\n",
              "      <td>251.818</td>\n",
              "      <td>31</td>\n",
              "      <td>1</td>\n",
              "      <td>0</td>\n",
              "      <td>0</td>\n",
              "      <td>3</td>\n",
              "    </tr>\n",
              "    <tr>\n",
              "      <th>477</th>\n",
              "      <td>24</td>\n",
              "      <td>28</td>\n",
              "      <td>25/07/2017</td>\n",
              "      <td>246</td>\n",
              "      <td>25</td>\n",
              "      <td>41</td>\n",
              "      <td>230.290</td>\n",
              "      <td>23</td>\n",
              "      <td>1</td>\n",
              "      <td>0</td>\n",
              "      <td>0</td>\n",
              "      <td>2</td>\n",
              "    </tr>\n",
              "    <tr>\n",
              "      <th>496</th>\n",
              "      <td>24</td>\n",
              "      <td>28</td>\n",
              "      <td>05/09/2017</td>\n",
              "      <td>246</td>\n",
              "      <td>25</td>\n",
              "      <td>41</td>\n",
              "      <td>261.756</td>\n",
              "      <td>23</td>\n",
              "      <td>1</td>\n",
              "      <td>0</td>\n",
              "      <td>0</td>\n",
              "      <td>1</td>\n",
              "    </tr>\n",
              "  </tbody>\n",
              "</table>\n",
              "</div>"
            ],
            "text/plain": [
              "     ID  Reason for Absence        Date  Transportation Expense  \\\n",
              "127  34                  27  11/01/2016                     118   \n",
              "128  34                  27  12/01/2016                     118   \n",
              "131  34                  27  13/01/2016                     118   \n",
              "305   5                  23  19/10/2016                     235   \n",
              "388   3                  27  22/02/2017                     179   \n",
              "389   3                  27  24/02/2017                     179   \n",
              "477  24                  28  25/07/2017                     246   \n",
              "496  24                  28  05/09/2017                     246   \n",
              "\n",
              "     Distance to Work  Age  Daily Work Load Average  Body Mass Index  \\\n",
              "127                10   37                  308.593               28   \n",
              "128                10   37                  308.593               28   \n",
              "131                10   37                  308.593               28   \n",
              "305                20   43                  265.017               38   \n",
              "388                51   38                  251.818               31   \n",
              "389                51   38                  251.818               31   \n",
              "477                25   41                  230.290               23   \n",
              "496                25   41                  261.756               23   \n",
              "\n",
              "     Education  Children  Pets  Absenteeism Time in Hours  \n",
              "127          1         0     0                          2  \n",
              "128          1         0     0                          2  \n",
              "131          1         0     0                          2  \n",
              "305          1         1     0                          2  \n",
              "388          1         0     0                          3  \n",
              "389          1         0     0                          3  \n",
              "477          1         0     0                          2  \n",
              "496          1         0     0                          1  "
            ]
          },
          "execution_count": 12,
          "metadata": {},
          "output_type": "execute_result"
        }
      ],
      "source": [
        "data[data.duplicated()]"
      ]
    },
    {
      "cell_type": "code",
      "execution_count": null,
      "metadata": {
        "scrolled": false,
        "id": "uJxCAO8Z1KF-"
      },
      "outputs": [],
      "source": [
        "data = data.drop_duplicates(keep=\"first\").reset_index()"
      ]
    },
    {
      "cell_type": "code",
      "execution_count": null,
      "metadata": {
        "scrolled": false,
        "id": "BFutUCL11KF-",
        "outputId": "3c784d30-97a6-4cf4-e532-415edcd95e91"
      },
      "outputs": [
        {
          "data": {
            "text/plain": [
              "(692, 13)"
            ]
          },
          "execution_count": 14,
          "metadata": {},
          "output_type": "execute_result"
        }
      ],
      "source": [
        "data.shape"
      ]
    },
    {
      "cell_type": "code",
      "execution_count": null,
      "metadata": {
        "id": "sykMPsSx1KF_",
        "outputId": "84780d0d-433f-418f-dbbc-2aea4f3bb200"
      },
      "outputs": [
        {
          "data": {
            "text/html": [
              "<div>\n",
              "<style scoped>\n",
              "    .dataframe tbody tr th:only-of-type {\n",
              "        vertical-align: middle;\n",
              "    }\n",
              "\n",
              "    .dataframe tbody tr th {\n",
              "        vertical-align: top;\n",
              "    }\n",
              "\n",
              "    .dataframe thead th {\n",
              "        text-align: right;\n",
              "    }\n",
              "</style>\n",
              "<table border=\"1\" class=\"dataframe\">\n",
              "  <thead>\n",
              "    <tr style=\"text-align: right;\">\n",
              "      <th></th>\n",
              "      <th>index</th>\n",
              "      <th>ID</th>\n",
              "      <th>Reason for Absence</th>\n",
              "      <th>Date</th>\n",
              "      <th>Transportation Expense</th>\n",
              "      <th>Distance to Work</th>\n",
              "      <th>Age</th>\n",
              "      <th>Daily Work Load Average</th>\n",
              "      <th>Body Mass Index</th>\n",
              "      <th>Education</th>\n",
              "      <th>Children</th>\n",
              "      <th>Pets</th>\n",
              "      <th>Absenteeism Time in Hours</th>\n",
              "    </tr>\n",
              "  </thead>\n",
              "  <tbody>\n",
              "    <tr>\n",
              "      <th>0</th>\n",
              "      <td>0</td>\n",
              "      <td>11</td>\n",
              "      <td>26</td>\n",
              "      <td>07/07/2015</td>\n",
              "      <td>289</td>\n",
              "      <td>36</td>\n",
              "      <td>33</td>\n",
              "      <td>239.554</td>\n",
              "      <td>30</td>\n",
              "      <td>1</td>\n",
              "      <td>2</td>\n",
              "      <td>1</td>\n",
              "      <td>4</td>\n",
              "    </tr>\n",
              "    <tr>\n",
              "      <th>1</th>\n",
              "      <td>1</td>\n",
              "      <td>36</td>\n",
              "      <td>0</td>\n",
              "      <td>14/07/2015</td>\n",
              "      <td>118</td>\n",
              "      <td>13</td>\n",
              "      <td>50</td>\n",
              "      <td>239.554</td>\n",
              "      <td>31</td>\n",
              "      <td>1</td>\n",
              "      <td>1</td>\n",
              "      <td>0</td>\n",
              "      <td>0</td>\n",
              "    </tr>\n",
              "    <tr>\n",
              "      <th>2</th>\n",
              "      <td>2</td>\n",
              "      <td>3</td>\n",
              "      <td>23</td>\n",
              "      <td>15/07/2015</td>\n",
              "      <td>179</td>\n",
              "      <td>51</td>\n",
              "      <td>38</td>\n",
              "      <td>239.554</td>\n",
              "      <td>31</td>\n",
              "      <td>1</td>\n",
              "      <td>0</td>\n",
              "      <td>0</td>\n",
              "      <td>2</td>\n",
              "    </tr>\n",
              "    <tr>\n",
              "      <th>3</th>\n",
              "      <td>3</td>\n",
              "      <td>7</td>\n",
              "      <td>7</td>\n",
              "      <td>16/07/2015</td>\n",
              "      <td>279</td>\n",
              "      <td>5</td>\n",
              "      <td>39</td>\n",
              "      <td>239.554</td>\n",
              "      <td>24</td>\n",
              "      <td>1</td>\n",
              "      <td>2</td>\n",
              "      <td>0</td>\n",
              "      <td>4</td>\n",
              "    </tr>\n",
              "    <tr>\n",
              "      <th>4</th>\n",
              "      <td>4</td>\n",
              "      <td>11</td>\n",
              "      <td>23</td>\n",
              "      <td>23/07/2015</td>\n",
              "      <td>289</td>\n",
              "      <td>36</td>\n",
              "      <td>33</td>\n",
              "      <td>239.554</td>\n",
              "      <td>30</td>\n",
              "      <td>1</td>\n",
              "      <td>2</td>\n",
              "      <td>1</td>\n",
              "      <td>2</td>\n",
              "    </tr>\n",
              "  </tbody>\n",
              "</table>\n",
              "</div>"
            ],
            "text/plain": [
              "   index  ID  Reason for Absence        Date  Transportation Expense  \\\n",
              "0      0  11                  26  07/07/2015                     289   \n",
              "1      1  36                   0  14/07/2015                     118   \n",
              "2      2   3                  23  15/07/2015                     179   \n",
              "3      3   7                   7  16/07/2015                     279   \n",
              "4      4  11                  23  23/07/2015                     289   \n",
              "\n",
              "   Distance to Work  Age  Daily Work Load Average  Body Mass Index  Education  \\\n",
              "0                36   33                  239.554               30          1   \n",
              "1                13   50                  239.554               31          1   \n",
              "2                51   38                  239.554               31          1   \n",
              "3                 5   39                  239.554               24          1   \n",
              "4                36   33                  239.554               30          1   \n",
              "\n",
              "   Children  Pets  Absenteeism Time in Hours  \n",
              "0         2     1                          4  \n",
              "1         1     0                          0  \n",
              "2         0     0                          2  \n",
              "3         2     0                          4  \n",
              "4         2     1                          2  "
            ]
          },
          "execution_count": 15,
          "metadata": {},
          "output_type": "execute_result"
        }
      ],
      "source": [
        "data.head()"
      ]
    },
    {
      "cell_type": "markdown",
      "metadata": {
        "id": "EkzeX_qh1KF_"
      },
      "source": [
        "<a id = \"8\"></a><br>\n",
        "## Remove Correlation Feature\n",
        "* Drop features if they have 80% correlation "
      ]
    },
    {
      "cell_type": "code",
      "execution_count": null,
      "metadata": {
        "scrolled": false,
        "id": "UmXI_qMD1KF_"
      },
      "outputs": [],
      "source": [
        "def correlation(dataset, threshold):\n",
        "    col_corr = set()  # Set of all the names of correlated columns\n",
        "    corr_matrix = dataset.corr()\n",
        "    for i in range(len(corr_matrix.columns)):\n",
        "        for j in range(i):\n",
        "            if abs(corr_matrix.iloc[i, j]) > threshold: # we are interested in absolute coeff value\n",
        "                colname = corr_matrix.columns[i]  # getting the name of column\n",
        "                col_corr.add(colname)\n",
        "    return col_corr"
      ]
    },
    {
      "cell_type": "code",
      "execution_count": null,
      "metadata": {
        "scrolled": false,
        "id": "9_-SDrfK1KGA",
        "outputId": "57dc42a4-53a8-429b-e9d2-e2c0cc76c3f3"
      },
      "outputs": [
        {
          "data": {
            "text/plain": [
              "0"
            ]
          },
          "execution_count": 17,
          "metadata": {},
          "output_type": "execute_result"
        }
      ],
      "source": [
        "corr_features = correlation(data, 0.8)\n",
        "len(set(corr_features))"
      ]
    },
    {
      "cell_type": "markdown",
      "metadata": {
        "id": "gLQ8O23d1KGA"
      },
      "source": [
        "<a id = \"9\"></a><br>\n",
        "## Remove Unnecessary Features"
      ]
    },
    {
      "cell_type": "code",
      "execution_count": null,
      "metadata": {
        "scrolled": false,
        "id": "fOQeqaIe1KGA",
        "outputId": "8b6ff004-10b4-4064-df70-dee8ca0b3243"
      },
      "outputs": [
        {
          "data": {
            "text/html": [
              "<div>\n",
              "<style scoped>\n",
              "    .dataframe tbody tr th:only-of-type {\n",
              "        vertical-align: middle;\n",
              "    }\n",
              "\n",
              "    .dataframe tbody tr th {\n",
              "        vertical-align: top;\n",
              "    }\n",
              "\n",
              "    .dataframe thead th {\n",
              "        text-align: right;\n",
              "    }\n",
              "</style>\n",
              "<table border=\"1\" class=\"dataframe\">\n",
              "  <thead>\n",
              "    <tr style=\"text-align: right;\">\n",
              "      <th></th>\n",
              "      <th>Reason for Absence</th>\n",
              "      <th>Date</th>\n",
              "      <th>Transportation Expense</th>\n",
              "      <th>Distance to Work</th>\n",
              "      <th>Age</th>\n",
              "      <th>Daily Work Load Average</th>\n",
              "      <th>Body Mass Index</th>\n",
              "      <th>Education</th>\n",
              "      <th>Children</th>\n",
              "      <th>Pets</th>\n",
              "      <th>Absenteeism Time in Hours</th>\n",
              "    </tr>\n",
              "  </thead>\n",
              "  <tbody>\n",
              "    <tr>\n",
              "      <th>0</th>\n",
              "      <td>26</td>\n",
              "      <td>07/07/2015</td>\n",
              "      <td>289</td>\n",
              "      <td>36</td>\n",
              "      <td>33</td>\n",
              "      <td>239.554</td>\n",
              "      <td>30</td>\n",
              "      <td>1</td>\n",
              "      <td>2</td>\n",
              "      <td>1</td>\n",
              "      <td>4</td>\n",
              "    </tr>\n",
              "    <tr>\n",
              "      <th>1</th>\n",
              "      <td>0</td>\n",
              "      <td>14/07/2015</td>\n",
              "      <td>118</td>\n",
              "      <td>13</td>\n",
              "      <td>50</td>\n",
              "      <td>239.554</td>\n",
              "      <td>31</td>\n",
              "      <td>1</td>\n",
              "      <td>1</td>\n",
              "      <td>0</td>\n",
              "      <td>0</td>\n",
              "    </tr>\n",
              "    <tr>\n",
              "      <th>2</th>\n",
              "      <td>23</td>\n",
              "      <td>15/07/2015</td>\n",
              "      <td>179</td>\n",
              "      <td>51</td>\n",
              "      <td>38</td>\n",
              "      <td>239.554</td>\n",
              "      <td>31</td>\n",
              "      <td>1</td>\n",
              "      <td>0</td>\n",
              "      <td>0</td>\n",
              "      <td>2</td>\n",
              "    </tr>\n",
              "    <tr>\n",
              "      <th>3</th>\n",
              "      <td>7</td>\n",
              "      <td>16/07/2015</td>\n",
              "      <td>279</td>\n",
              "      <td>5</td>\n",
              "      <td>39</td>\n",
              "      <td>239.554</td>\n",
              "      <td>24</td>\n",
              "      <td>1</td>\n",
              "      <td>2</td>\n",
              "      <td>0</td>\n",
              "      <td>4</td>\n",
              "    </tr>\n",
              "    <tr>\n",
              "      <th>4</th>\n",
              "      <td>23</td>\n",
              "      <td>23/07/2015</td>\n",
              "      <td>289</td>\n",
              "      <td>36</td>\n",
              "      <td>33</td>\n",
              "      <td>239.554</td>\n",
              "      <td>30</td>\n",
              "      <td>1</td>\n",
              "      <td>2</td>\n",
              "      <td>1</td>\n",
              "      <td>2</td>\n",
              "    </tr>\n",
              "  </tbody>\n",
              "</table>\n",
              "</div>"
            ],
            "text/plain": [
              "   Reason for Absence        Date  Transportation Expense  Distance to Work  \\\n",
              "0                  26  07/07/2015                     289                36   \n",
              "1                   0  14/07/2015                     118                13   \n",
              "2                  23  15/07/2015                     179                51   \n",
              "3                   7  16/07/2015                     279                 5   \n",
              "4                  23  23/07/2015                     289                36   \n",
              "\n",
              "   Age  Daily Work Load Average  Body Mass Index  Education  Children  Pets  \\\n",
              "0   33                  239.554               30          1         2     1   \n",
              "1   50                  239.554               31          1         1     0   \n",
              "2   38                  239.554               31          1         0     0   \n",
              "3   39                  239.554               24          1         2     0   \n",
              "4   33                  239.554               30          1         2     1   \n",
              "\n",
              "   Absenteeism Time in Hours  \n",
              "0                          4  \n",
              "1                          0  \n",
              "2                          2  \n",
              "3                          4  \n",
              "4                          2  "
            ]
          },
          "execution_count": 18,
          "metadata": {},
          "output_type": "execute_result"
        }
      ],
      "source": [
        "data.drop([\"ID\",\"index\"],axis=1,inplace=True)\n",
        "data.head()"
      ]
    },
    {
      "cell_type": "markdown",
      "metadata": {
        "id": "TZm_KWPC1KGA"
      },
      "source": [
        "<a id = \"10\"></a><br>\n",
        "## Observe Reason for Absence"
      ]
    },
    {
      "cell_type": "code",
      "execution_count": null,
      "metadata": {
        "scrolled": false,
        "id": "pYixjWFm1KGA",
        "outputId": "31c44f8c-8145-4a0e-dbe4-ea20c0eb15d1"
      },
      "outputs": [
        {
          "data": {
            "text/plain": [
              "array([26,  0, 23,  7, 22, 19,  1, 11, 14, 21, 10, 13, 28, 18, 25, 24,  6,\n",
              "       27, 17,  8, 12,  5,  9, 15,  4,  3,  2, 16])"
            ]
          },
          "execution_count": 19,
          "metadata": {},
          "output_type": "execute_result"
        }
      ],
      "source": [
        "# Reason for Absence\n",
        "data[\"Reason for Absence\"].unique()"
      ]
    },
    {
      "cell_type": "markdown",
      "metadata": {
        "id": "lwvanQ-91KGA"
      },
      "source": [
        "* 0: 'Unknown',\n",
        "* 1: 'Certain infectious and parasitic diseases',\n",
        "* 2: 'Neoplasms',\n",
        "* 3: 'Diseases of the blood and blood-forming organs and certain disorders involving the immune mechanism',\n",
        "* 4: 'Endocrine, nutritional and metabolic diseases',\n",
        "* 5: 'Mental and behavioural disorders',\n",
        "* 6: 'Diseases of the nervous system',\n",
        "* 7: 'Diseases of the eye and adnexa',\n",
        "* 8: 'Diseases of the ear and mastoid process',\n",
        "* 9: 'Diseases of the circulatory system',\n",
        "* 10: 'Diseases of the respiratory system',\n",
        "* 11: 'Diseases of the digestive system',\n",
        "* 12: 'Diseases of the skin and subcutaneous tissue',\n",
        "* 13: 'Diseases of the musculoskeletal system and connective tissue',\n",
        "* 14: 'Diseases of the genitourinary system',\n",
        "* 15: 'Pregnancy, childbirth and the puerperium',\n",
        "* 16: 'Certain conditions originating in the perinatal period',\n",
        "* 17: 'Congenital malformations, deformations and chromosomal abnormalities',\n",
        "* 18: 'Symptoms, signs and abnormal clinical and laboratory findings, not elsewhere classified',\n",
        "* 19: 'Injury, poisoning and certain other consequences of external causes',\n",
        "* 20: 'External causes of morbidity and mortality',\n",
        "* 21: 'Factors influencing health status and contact with health services',\n",
        "* 22: 'Patient follow-up',\n",
        "* 23: 'Medical consultation',\n",
        "* 24: 'Blood donation',\n",
        "* 25: 'Laboratory examination',\n",
        "* 26: 'Unjustified absence',\n",
        "* 27: 'Physiotherapy',\n",
        "* 28: 'Dental consultation'"
      ]
    },
    {
      "cell_type": "markdown",
      "metadata": {
        "id": "PnZPDZLM1KGB"
      },
      "source": [
        "<a id = \"11\"></a><br>\n",
        "## Feature Engineering Part-2"
      ]
    },
    {
      "cell_type": "markdown",
      "metadata": {
        "id": "AdsJHSEd1KGB"
      },
      "source": [
        "* One Hot Encoding"
      ]
    },
    {
      "cell_type": "code",
      "execution_count": null,
      "metadata": {
        "scrolled": false,
        "id": "AxsFuB2E1KGB",
        "outputId": "147d9e34-4f57-4e5d-f142-2fb76f85fc78"
      },
      "outputs": [
        {
          "data": {
            "text/html": [
              "<div>\n",
              "<style scoped>\n",
              "    .dataframe tbody tr th:only-of-type {\n",
              "        vertical-align: middle;\n",
              "    }\n",
              "\n",
              "    .dataframe tbody tr th {\n",
              "        vertical-align: top;\n",
              "    }\n",
              "\n",
              "    .dataframe thead th {\n",
              "        text-align: right;\n",
              "    }\n",
              "</style>\n",
              "<table border=\"1\" class=\"dataframe\">\n",
              "  <thead>\n",
              "    <tr style=\"text-align: right;\">\n",
              "      <th></th>\n",
              "      <th>1</th>\n",
              "      <th>2</th>\n",
              "      <th>3</th>\n",
              "      <th>4</th>\n",
              "      <th>5</th>\n",
              "      <th>6</th>\n",
              "      <th>7</th>\n",
              "      <th>8</th>\n",
              "      <th>9</th>\n",
              "      <th>10</th>\n",
              "      <th>...</th>\n",
              "      <th>18</th>\n",
              "      <th>19</th>\n",
              "      <th>21</th>\n",
              "      <th>22</th>\n",
              "      <th>23</th>\n",
              "      <th>24</th>\n",
              "      <th>25</th>\n",
              "      <th>26</th>\n",
              "      <th>27</th>\n",
              "      <th>28</th>\n",
              "    </tr>\n",
              "  </thead>\n",
              "  <tbody>\n",
              "    <tr>\n",
              "      <th>0</th>\n",
              "      <td>0</td>\n",
              "      <td>0</td>\n",
              "      <td>0</td>\n",
              "      <td>0</td>\n",
              "      <td>0</td>\n",
              "      <td>0</td>\n",
              "      <td>0</td>\n",
              "      <td>0</td>\n",
              "      <td>0</td>\n",
              "      <td>0</td>\n",
              "      <td>...</td>\n",
              "      <td>0</td>\n",
              "      <td>0</td>\n",
              "      <td>0</td>\n",
              "      <td>0</td>\n",
              "      <td>0</td>\n",
              "      <td>0</td>\n",
              "      <td>0</td>\n",
              "      <td>1</td>\n",
              "      <td>0</td>\n",
              "      <td>0</td>\n",
              "    </tr>\n",
              "    <tr>\n",
              "      <th>1</th>\n",
              "      <td>0</td>\n",
              "      <td>0</td>\n",
              "      <td>0</td>\n",
              "      <td>0</td>\n",
              "      <td>0</td>\n",
              "      <td>0</td>\n",
              "      <td>0</td>\n",
              "      <td>0</td>\n",
              "      <td>0</td>\n",
              "      <td>0</td>\n",
              "      <td>...</td>\n",
              "      <td>0</td>\n",
              "      <td>0</td>\n",
              "      <td>0</td>\n",
              "      <td>0</td>\n",
              "      <td>0</td>\n",
              "      <td>0</td>\n",
              "      <td>0</td>\n",
              "      <td>0</td>\n",
              "      <td>0</td>\n",
              "      <td>0</td>\n",
              "    </tr>\n",
              "    <tr>\n",
              "      <th>2</th>\n",
              "      <td>0</td>\n",
              "      <td>0</td>\n",
              "      <td>0</td>\n",
              "      <td>0</td>\n",
              "      <td>0</td>\n",
              "      <td>0</td>\n",
              "      <td>0</td>\n",
              "      <td>0</td>\n",
              "      <td>0</td>\n",
              "      <td>0</td>\n",
              "      <td>...</td>\n",
              "      <td>0</td>\n",
              "      <td>0</td>\n",
              "      <td>0</td>\n",
              "      <td>0</td>\n",
              "      <td>1</td>\n",
              "      <td>0</td>\n",
              "      <td>0</td>\n",
              "      <td>0</td>\n",
              "      <td>0</td>\n",
              "      <td>0</td>\n",
              "    </tr>\n",
              "    <tr>\n",
              "      <th>3</th>\n",
              "      <td>0</td>\n",
              "      <td>0</td>\n",
              "      <td>0</td>\n",
              "      <td>0</td>\n",
              "      <td>0</td>\n",
              "      <td>0</td>\n",
              "      <td>1</td>\n",
              "      <td>0</td>\n",
              "      <td>0</td>\n",
              "      <td>0</td>\n",
              "      <td>...</td>\n",
              "      <td>0</td>\n",
              "      <td>0</td>\n",
              "      <td>0</td>\n",
              "      <td>0</td>\n",
              "      <td>0</td>\n",
              "      <td>0</td>\n",
              "      <td>0</td>\n",
              "      <td>0</td>\n",
              "      <td>0</td>\n",
              "      <td>0</td>\n",
              "    </tr>\n",
              "    <tr>\n",
              "      <th>4</th>\n",
              "      <td>0</td>\n",
              "      <td>0</td>\n",
              "      <td>0</td>\n",
              "      <td>0</td>\n",
              "      <td>0</td>\n",
              "      <td>0</td>\n",
              "      <td>0</td>\n",
              "      <td>0</td>\n",
              "      <td>0</td>\n",
              "      <td>0</td>\n",
              "      <td>...</td>\n",
              "      <td>0</td>\n",
              "      <td>0</td>\n",
              "      <td>0</td>\n",
              "      <td>0</td>\n",
              "      <td>1</td>\n",
              "      <td>0</td>\n",
              "      <td>0</td>\n",
              "      <td>0</td>\n",
              "      <td>0</td>\n",
              "      <td>0</td>\n",
              "    </tr>\n",
              "  </tbody>\n",
              "</table>\n",
              "<p>5 rows × 27 columns</p>\n",
              "</div>"
            ],
            "text/plain": [
              "   1   2   3   4   5   6   7   8   9   10  ...  18  19  21  22  23  24  25  \\\n",
              "0   0   0   0   0   0   0   0   0   0   0  ...   0   0   0   0   0   0   0   \n",
              "1   0   0   0   0   0   0   0   0   0   0  ...   0   0   0   0   0   0   0   \n",
              "2   0   0   0   0   0   0   0   0   0   0  ...   0   0   0   0   1   0   0   \n",
              "3   0   0   0   0   0   0   1   0   0   0  ...   0   0   0   0   0   0   0   \n",
              "4   0   0   0   0   0   0   0   0   0   0  ...   0   0   0   0   1   0   0   \n",
              "\n",
              "   26  27  28  \n",
              "0   1   0   0  \n",
              "1   0   0   0  \n",
              "2   0   0   0  \n",
              "3   0   0   0  \n",
              "4   0   0   0  \n",
              "\n",
              "[5 rows x 27 columns]"
            ]
          },
          "execution_count": 20,
          "metadata": {},
          "output_type": "execute_result"
        }
      ],
      "source": [
        "reason_columns = pd.get_dummies(data[\"Reason for Absence\"],drop_first=True)\n",
        "reason_columns.head()"
      ]
    },
    {
      "cell_type": "code",
      "execution_count": null,
      "metadata": {
        "scrolled": false,
        "id": "h7ICBEuA1KGB"
      },
      "outputs": [],
      "source": [
        "# Make Groups For Reasons\n",
        "reason_type_1 = reason_columns.loc[:,:14].max(axis=1)\n",
        "reason_type_2 = reason_columns.loc[:,15:17].max(axis=1)\n",
        "reason_type_3 = reason_columns.loc[:,18:21].max(axis=1)\n",
        "reason_type_4 = reason_columns.loc[:,22:].max(axis=1)"
      ]
    },
    {
      "cell_type": "code",
      "execution_count": null,
      "metadata": {
        "scrolled": false,
        "id": "Lnl78vv41KGB",
        "outputId": "2d3e09f7-cc0e-4894-ef0a-a4ad3f26ef69"
      },
      "outputs": [
        {
          "data": {
            "text/html": [
              "<div>\n",
              "<style scoped>\n",
              "    .dataframe tbody tr th:only-of-type {\n",
              "        vertical-align: middle;\n",
              "    }\n",
              "\n",
              "    .dataframe tbody tr th {\n",
              "        vertical-align: top;\n",
              "    }\n",
              "\n",
              "    .dataframe thead th {\n",
              "        text-align: right;\n",
              "    }\n",
              "</style>\n",
              "<table border=\"1\" class=\"dataframe\">\n",
              "  <thead>\n",
              "    <tr style=\"text-align: right;\">\n",
              "      <th></th>\n",
              "      <th>Date</th>\n",
              "      <th>Transportation Expense</th>\n",
              "      <th>Distance to Work</th>\n",
              "      <th>Age</th>\n",
              "      <th>Daily Work Load Average</th>\n",
              "      <th>Body Mass Index</th>\n",
              "      <th>Education</th>\n",
              "      <th>Children</th>\n",
              "      <th>Pets</th>\n",
              "      <th>Absenteeism Time in Hours</th>\n",
              "      <th>0</th>\n",
              "      <th>1</th>\n",
              "      <th>2</th>\n",
              "      <th>3</th>\n",
              "    </tr>\n",
              "  </thead>\n",
              "  <tbody>\n",
              "    <tr>\n",
              "      <th>0</th>\n",
              "      <td>07/07/2015</td>\n",
              "      <td>289</td>\n",
              "      <td>36</td>\n",
              "      <td>33</td>\n",
              "      <td>239.554</td>\n",
              "      <td>30</td>\n",
              "      <td>1</td>\n",
              "      <td>2</td>\n",
              "      <td>1</td>\n",
              "      <td>4</td>\n",
              "      <td>0</td>\n",
              "      <td>0</td>\n",
              "      <td>0</td>\n",
              "      <td>1</td>\n",
              "    </tr>\n",
              "    <tr>\n",
              "      <th>1</th>\n",
              "      <td>14/07/2015</td>\n",
              "      <td>118</td>\n",
              "      <td>13</td>\n",
              "      <td>50</td>\n",
              "      <td>239.554</td>\n",
              "      <td>31</td>\n",
              "      <td>1</td>\n",
              "      <td>1</td>\n",
              "      <td>0</td>\n",
              "      <td>0</td>\n",
              "      <td>0</td>\n",
              "      <td>0</td>\n",
              "      <td>0</td>\n",
              "      <td>0</td>\n",
              "    </tr>\n",
              "    <tr>\n",
              "      <th>2</th>\n",
              "      <td>15/07/2015</td>\n",
              "      <td>179</td>\n",
              "      <td>51</td>\n",
              "      <td>38</td>\n",
              "      <td>239.554</td>\n",
              "      <td>31</td>\n",
              "      <td>1</td>\n",
              "      <td>0</td>\n",
              "      <td>0</td>\n",
              "      <td>2</td>\n",
              "      <td>0</td>\n",
              "      <td>0</td>\n",
              "      <td>0</td>\n",
              "      <td>1</td>\n",
              "    </tr>\n",
              "    <tr>\n",
              "      <th>3</th>\n",
              "      <td>16/07/2015</td>\n",
              "      <td>279</td>\n",
              "      <td>5</td>\n",
              "      <td>39</td>\n",
              "      <td>239.554</td>\n",
              "      <td>24</td>\n",
              "      <td>1</td>\n",
              "      <td>2</td>\n",
              "      <td>0</td>\n",
              "      <td>4</td>\n",
              "      <td>1</td>\n",
              "      <td>0</td>\n",
              "      <td>0</td>\n",
              "      <td>0</td>\n",
              "    </tr>\n",
              "    <tr>\n",
              "      <th>4</th>\n",
              "      <td>23/07/2015</td>\n",
              "      <td>289</td>\n",
              "      <td>36</td>\n",
              "      <td>33</td>\n",
              "      <td>239.554</td>\n",
              "      <td>30</td>\n",
              "      <td>1</td>\n",
              "      <td>2</td>\n",
              "      <td>1</td>\n",
              "      <td>2</td>\n",
              "      <td>0</td>\n",
              "      <td>0</td>\n",
              "      <td>0</td>\n",
              "      <td>1</td>\n",
              "    </tr>\n",
              "  </tbody>\n",
              "</table>\n",
              "</div>"
            ],
            "text/plain": [
              "         Date  Transportation Expense  Distance to Work  Age  \\\n",
              "0  07/07/2015                     289                36   33   \n",
              "1  14/07/2015                     118                13   50   \n",
              "2  15/07/2015                     179                51   38   \n",
              "3  16/07/2015                     279                 5   39   \n",
              "4  23/07/2015                     289                36   33   \n",
              "\n",
              "   Daily Work Load Average  Body Mass Index  Education  Children  Pets  \\\n",
              "0                  239.554               30          1         2     1   \n",
              "1                  239.554               31          1         1     0   \n",
              "2                  239.554               31          1         0     0   \n",
              "3                  239.554               24          1         2     0   \n",
              "4                  239.554               30          1         2     1   \n",
              "\n",
              "   Absenteeism Time in Hours  0  1  2  3  \n",
              "0                          4  0  0  0  1  \n",
              "1                          0  0  0  0  0  \n",
              "2                          2  0  0  0  1  \n",
              "3                          4  1  0  0  0  \n",
              "4                          2  0  0  0  1  "
            ]
          },
          "execution_count": 22,
          "metadata": {},
          "output_type": "execute_result"
        }
      ],
      "source": [
        "# concat:\n",
        "df = pd.concat([data.drop(\"Reason for Absence\",axis=1), reason_type_1, reason_type_2, reason_type_3, reason_type_4],axis=1)\n",
        "df.head()"
      ]
    },
    {
      "cell_type": "code",
      "execution_count": null,
      "metadata": {
        "scrolled": false,
        "id": "IuIhNzXJ1KGC",
        "outputId": "9841e206-4846-431b-f373-588b449cf8a8"
      },
      "outputs": [
        {
          "data": {
            "text/plain": [
              "array(['Date', 'Transportation Expense', 'Distance to Work', 'Age',\n",
              "       'Daily Work Load Average', 'Body Mass Index', 'Education',\n",
              "       'Children', 'Pets', 'Absenteeism Time in Hours', 0, 1, 2, 3],\n",
              "      dtype=object)"
            ]
          },
          "execution_count": 23,
          "metadata": {},
          "output_type": "execute_result"
        }
      ],
      "source": [
        "df.columns.values"
      ]
    },
    {
      "cell_type": "code",
      "execution_count": null,
      "metadata": {
        "scrolled": false,
        "id": "ly3ANzSS1KGC",
        "outputId": "962f4ac7-4185-4892-e1a7-453dc5f57b70"
      },
      "outputs": [
        {
          "data": {
            "text/html": [
              "<div>\n",
              "<style scoped>\n",
              "    .dataframe tbody tr th:only-of-type {\n",
              "        vertical-align: middle;\n",
              "    }\n",
              "\n",
              "    .dataframe tbody tr th {\n",
              "        vertical-align: top;\n",
              "    }\n",
              "\n",
              "    .dataframe thead th {\n",
              "        text-align: right;\n",
              "    }\n",
              "</style>\n",
              "<table border=\"1\" class=\"dataframe\">\n",
              "  <thead>\n",
              "    <tr style=\"text-align: right;\">\n",
              "      <th></th>\n",
              "      <th>Date</th>\n",
              "      <th>Transportation Expense</th>\n",
              "      <th>Distance to Work</th>\n",
              "      <th>Age</th>\n",
              "      <th>Daily Work Load Average</th>\n",
              "      <th>Body Mass Index</th>\n",
              "      <th>Education</th>\n",
              "      <th>Children</th>\n",
              "      <th>Pets</th>\n",
              "      <th>Absenteeism Time in Hours</th>\n",
              "      <th>Reason_1</th>\n",
              "      <th>Reason_2</th>\n",
              "      <th>Reason_3</th>\n",
              "      <th>Reason_4</th>\n",
              "    </tr>\n",
              "  </thead>\n",
              "  <tbody>\n",
              "    <tr>\n",
              "      <th>0</th>\n",
              "      <td>07/07/2015</td>\n",
              "      <td>289</td>\n",
              "      <td>36</td>\n",
              "      <td>33</td>\n",
              "      <td>239.554</td>\n",
              "      <td>30</td>\n",
              "      <td>1</td>\n",
              "      <td>2</td>\n",
              "      <td>1</td>\n",
              "      <td>4</td>\n",
              "      <td>0</td>\n",
              "      <td>0</td>\n",
              "      <td>0</td>\n",
              "      <td>1</td>\n",
              "    </tr>\n",
              "    <tr>\n",
              "      <th>1</th>\n",
              "      <td>14/07/2015</td>\n",
              "      <td>118</td>\n",
              "      <td>13</td>\n",
              "      <td>50</td>\n",
              "      <td>239.554</td>\n",
              "      <td>31</td>\n",
              "      <td>1</td>\n",
              "      <td>1</td>\n",
              "      <td>0</td>\n",
              "      <td>0</td>\n",
              "      <td>0</td>\n",
              "      <td>0</td>\n",
              "      <td>0</td>\n",
              "      <td>0</td>\n",
              "    </tr>\n",
              "    <tr>\n",
              "      <th>2</th>\n",
              "      <td>15/07/2015</td>\n",
              "      <td>179</td>\n",
              "      <td>51</td>\n",
              "      <td>38</td>\n",
              "      <td>239.554</td>\n",
              "      <td>31</td>\n",
              "      <td>1</td>\n",
              "      <td>0</td>\n",
              "      <td>0</td>\n",
              "      <td>2</td>\n",
              "      <td>0</td>\n",
              "      <td>0</td>\n",
              "      <td>0</td>\n",
              "      <td>1</td>\n",
              "    </tr>\n",
              "    <tr>\n",
              "      <th>3</th>\n",
              "      <td>16/07/2015</td>\n",
              "      <td>279</td>\n",
              "      <td>5</td>\n",
              "      <td>39</td>\n",
              "      <td>239.554</td>\n",
              "      <td>24</td>\n",
              "      <td>1</td>\n",
              "      <td>2</td>\n",
              "      <td>0</td>\n",
              "      <td>4</td>\n",
              "      <td>1</td>\n",
              "      <td>0</td>\n",
              "      <td>0</td>\n",
              "      <td>0</td>\n",
              "    </tr>\n",
              "    <tr>\n",
              "      <th>4</th>\n",
              "      <td>23/07/2015</td>\n",
              "      <td>289</td>\n",
              "      <td>36</td>\n",
              "      <td>33</td>\n",
              "      <td>239.554</td>\n",
              "      <td>30</td>\n",
              "      <td>1</td>\n",
              "      <td>2</td>\n",
              "      <td>1</td>\n",
              "      <td>2</td>\n",
              "      <td>0</td>\n",
              "      <td>0</td>\n",
              "      <td>0</td>\n",
              "      <td>1</td>\n",
              "    </tr>\n",
              "  </tbody>\n",
              "</table>\n",
              "</div>"
            ],
            "text/plain": [
              "         Date  Transportation Expense  Distance to Work  Age  \\\n",
              "0  07/07/2015                     289                36   33   \n",
              "1  14/07/2015                     118                13   50   \n",
              "2  15/07/2015                     179                51   38   \n",
              "3  16/07/2015                     279                 5   39   \n",
              "4  23/07/2015                     289                36   33   \n",
              "\n",
              "   Daily Work Load Average  Body Mass Index  Education  Children  Pets  \\\n",
              "0                  239.554               30          1         2     1   \n",
              "1                  239.554               31          1         1     0   \n",
              "2                  239.554               31          1         0     0   \n",
              "3                  239.554               24          1         2     0   \n",
              "4                  239.554               30          1         2     1   \n",
              "\n",
              "   Absenteeism Time in Hours  Reason_1  Reason_2  Reason_3  Reason_4  \n",
              "0                          4         0         0         0         1  \n",
              "1                          0         0         0         0         0  \n",
              "2                          2         0         0         0         1  \n",
              "3                          4         1         0         0         0  \n",
              "4                          2         0         0         0         1  "
            ]
          },
          "execution_count": 24,
          "metadata": {},
          "output_type": "execute_result"
        }
      ],
      "source": [
        "columns_names = ['Date', 'Transportation Expense', 'Distance to Work', 'Age',\n",
        "       'Daily Work Load Average', 'Body Mass Index', 'Education',\n",
        "       'Children', 'Pets', 'Absenteeism Time in Hours', \"Reason_1\", \"Reason_2\", \"Reason_3\", \"Reason_4\"]\n",
        "df.columns = columns_names\n",
        "df.head()"
      ]
    },
    {
      "cell_type": "code",
      "execution_count": null,
      "metadata": {
        "scrolled": false,
        "id": "O6ahXeSa1KGC",
        "outputId": "31a464a5-9614-42e2-f48f-5a61d1d34691"
      },
      "outputs": [
        {
          "data": {
            "text/plain": [
              "array(['Date', 'Transportation Expense', 'Distance to Work', 'Age',\n",
              "       'Daily Work Load Average', 'Body Mass Index', 'Education',\n",
              "       'Children', 'Pets', 'Absenteeism Time in Hours', 'Reason_1',\n",
              "       'Reason_2', 'Reason_3', 'Reason_4'], dtype=object)"
            ]
          },
          "execution_count": 25,
          "metadata": {},
          "output_type": "execute_result"
        }
      ],
      "source": [
        "df.columns.values"
      ]
    },
    {
      "cell_type": "code",
      "execution_count": null,
      "metadata": {
        "scrolled": false,
        "id": "Lncfok2V1KGC",
        "outputId": "447658d5-beb6-468e-ed0c-15e5712bc506"
      },
      "outputs": [
        {
          "data": {
            "text/html": [
              "<div>\n",
              "<style scoped>\n",
              "    .dataframe tbody tr th:only-of-type {\n",
              "        vertical-align: middle;\n",
              "    }\n",
              "\n",
              "    .dataframe tbody tr th {\n",
              "        vertical-align: top;\n",
              "    }\n",
              "\n",
              "    .dataframe thead th {\n",
              "        text-align: right;\n",
              "    }\n",
              "</style>\n",
              "<table border=\"1\" class=\"dataframe\">\n",
              "  <thead>\n",
              "    <tr style=\"text-align: right;\">\n",
              "      <th></th>\n",
              "      <th>Reason_1</th>\n",
              "      <th>Reason_2</th>\n",
              "      <th>Reason_3</th>\n",
              "      <th>Reason_4</th>\n",
              "      <th>Date</th>\n",
              "      <th>Transportation Expense</th>\n",
              "      <th>Distance to Work</th>\n",
              "      <th>Age</th>\n",
              "      <th>Daily Work Load Average</th>\n",
              "      <th>Body Mass Index</th>\n",
              "      <th>Education</th>\n",
              "      <th>Children</th>\n",
              "      <th>Pets</th>\n",
              "      <th>Absenteeism Time in Hours</th>\n",
              "    </tr>\n",
              "  </thead>\n",
              "  <tbody>\n",
              "    <tr>\n",
              "      <th>0</th>\n",
              "      <td>0</td>\n",
              "      <td>0</td>\n",
              "      <td>0</td>\n",
              "      <td>1</td>\n",
              "      <td>07/07/2015</td>\n",
              "      <td>289</td>\n",
              "      <td>36</td>\n",
              "      <td>33</td>\n",
              "      <td>239.554</td>\n",
              "      <td>30</td>\n",
              "      <td>1</td>\n",
              "      <td>2</td>\n",
              "      <td>1</td>\n",
              "      <td>4</td>\n",
              "    </tr>\n",
              "    <tr>\n",
              "      <th>1</th>\n",
              "      <td>0</td>\n",
              "      <td>0</td>\n",
              "      <td>0</td>\n",
              "      <td>0</td>\n",
              "      <td>14/07/2015</td>\n",
              "      <td>118</td>\n",
              "      <td>13</td>\n",
              "      <td>50</td>\n",
              "      <td>239.554</td>\n",
              "      <td>31</td>\n",
              "      <td>1</td>\n",
              "      <td>1</td>\n",
              "      <td>0</td>\n",
              "      <td>0</td>\n",
              "    </tr>\n",
              "    <tr>\n",
              "      <th>2</th>\n",
              "      <td>0</td>\n",
              "      <td>0</td>\n",
              "      <td>0</td>\n",
              "      <td>1</td>\n",
              "      <td>15/07/2015</td>\n",
              "      <td>179</td>\n",
              "      <td>51</td>\n",
              "      <td>38</td>\n",
              "      <td>239.554</td>\n",
              "      <td>31</td>\n",
              "      <td>1</td>\n",
              "      <td>0</td>\n",
              "      <td>0</td>\n",
              "      <td>2</td>\n",
              "    </tr>\n",
              "    <tr>\n",
              "      <th>3</th>\n",
              "      <td>1</td>\n",
              "      <td>0</td>\n",
              "      <td>0</td>\n",
              "      <td>0</td>\n",
              "      <td>16/07/2015</td>\n",
              "      <td>279</td>\n",
              "      <td>5</td>\n",
              "      <td>39</td>\n",
              "      <td>239.554</td>\n",
              "      <td>24</td>\n",
              "      <td>1</td>\n",
              "      <td>2</td>\n",
              "      <td>0</td>\n",
              "      <td>4</td>\n",
              "    </tr>\n",
              "    <tr>\n",
              "      <th>4</th>\n",
              "      <td>0</td>\n",
              "      <td>0</td>\n",
              "      <td>0</td>\n",
              "      <td>1</td>\n",
              "      <td>23/07/2015</td>\n",
              "      <td>289</td>\n",
              "      <td>36</td>\n",
              "      <td>33</td>\n",
              "      <td>239.554</td>\n",
              "      <td>30</td>\n",
              "      <td>1</td>\n",
              "      <td>2</td>\n",
              "      <td>1</td>\n",
              "      <td>2</td>\n",
              "    </tr>\n",
              "  </tbody>\n",
              "</table>\n",
              "</div>"
            ],
            "text/plain": [
              "   Reason_1  Reason_2  Reason_3  Reason_4        Date  Transportation Expense  \\\n",
              "0         0         0         0         1  07/07/2015                     289   \n",
              "1         0         0         0         0  14/07/2015                     118   \n",
              "2         0         0         0         1  15/07/2015                     179   \n",
              "3         1         0         0         0  16/07/2015                     279   \n",
              "4         0         0         0         1  23/07/2015                     289   \n",
              "\n",
              "   Distance to Work  Age  Daily Work Load Average  Body Mass Index  Education  \\\n",
              "0                36   33                  239.554               30          1   \n",
              "1                13   50                  239.554               31          1   \n",
              "2                51   38                  239.554               31          1   \n",
              "3                 5   39                  239.554               24          1   \n",
              "4                36   33                  239.554               30          1   \n",
              "\n",
              "   Children  Pets  Absenteeism Time in Hours  \n",
              "0         2     1                          4  \n",
              "1         1     0                          0  \n",
              "2         0     0                          2  \n",
              "3         2     0                          4  \n",
              "4         2     1                          2  "
            ]
          },
          "execution_count": 26,
          "metadata": {},
          "output_type": "execute_result"
        }
      ],
      "source": [
        "# reorder columns\n",
        "column_names_reordered = ['Reason_1','Reason_2', 'Reason_3', 'Reason_4', 'Date', 'Transportation Expense', 'Distance to Work', 'Age',\n",
        "                           'Daily Work Load Average', 'Body Mass Index', 'Education',\n",
        "                           'Children', 'Pets', 'Absenteeism Time in Hours']\n",
        "df = df[column_names_reordered]\n",
        "df.head()"
      ]
    },
    {
      "cell_type": "code",
      "execution_count": null,
      "metadata": {
        "scrolled": false,
        "id": "DftJLdUV1KGC"
      },
      "outputs": [],
      "source": [
        "# create a chechpoint: to reduce the risk of losing data\n",
        "df_reason_mod = df.copy()"
      ]
    },
    {
      "cell_type": "code",
      "execution_count": null,
      "metadata": {
        "scrolled": false,
        "id": "cqVpMIbh1KGC",
        "outputId": "9139e02d-16a0-4d0d-d5a4-874f4852cd74"
      },
      "outputs": [
        {
          "data": {
            "text/plain": [
              "0   2015-07-07\n",
              "1   2015-07-14\n",
              "2   2015-07-15\n",
              "3   2015-07-16\n",
              "4   2015-07-23\n",
              "Name: Date, dtype: datetime64[ns]"
            ]
          },
          "execution_count": 28,
          "metadata": {},
          "output_type": "execute_result"
        }
      ],
      "source": [
        "# date:\n",
        "# df_reason_mod[\"Date\"].apply(lambda x: x.split(\"/\"))\n",
        "df_reason_mod[\"Date\"] = pd.to_datetime(df_reason_mod[\"Date\"], format=\"%d/%m/%Y\")\n",
        "df_reason_mod[\"Date\"][0:5]"
      ]
    },
    {
      "cell_type": "code",
      "execution_count": null,
      "metadata": {
        "scrolled": false,
        "id": "BDFjq3HG1KGC"
      },
      "outputs": [],
      "source": [
        "# extract month\n",
        "list_months = []\n",
        "for i in range(len(df_reason_mod[\"Date\"])):\n",
        "    list_months.append(df_reason_mod[\"Date\"][i].month)"
      ]
    },
    {
      "cell_type": "code",
      "execution_count": null,
      "metadata": {
        "scrolled": false,
        "id": "etlLbEI61KGC",
        "outputId": "b6587ff4-7c65-4b15-b6fa-3145d9ab3689"
      },
      "outputs": [
        {
          "data": {
            "text/html": [
              "<div>\n",
              "<style scoped>\n",
              "    .dataframe tbody tr th:only-of-type {\n",
              "        vertical-align: middle;\n",
              "    }\n",
              "\n",
              "    .dataframe tbody tr th {\n",
              "        vertical-align: top;\n",
              "    }\n",
              "\n",
              "    .dataframe thead th {\n",
              "        text-align: right;\n",
              "    }\n",
              "</style>\n",
              "<table border=\"1\" class=\"dataframe\">\n",
              "  <thead>\n",
              "    <tr style=\"text-align: right;\">\n",
              "      <th></th>\n",
              "      <th>Reason_1</th>\n",
              "      <th>Reason_2</th>\n",
              "      <th>Reason_3</th>\n",
              "      <th>Reason_4</th>\n",
              "      <th>Date</th>\n",
              "      <th>Transportation Expense</th>\n",
              "      <th>Distance to Work</th>\n",
              "      <th>Age</th>\n",
              "      <th>Daily Work Load Average</th>\n",
              "      <th>Body Mass Index</th>\n",
              "      <th>Education</th>\n",
              "      <th>Children</th>\n",
              "      <th>Pets</th>\n",
              "      <th>Absenteeism Time in Hours</th>\n",
              "      <th>Month Value</th>\n",
              "    </tr>\n",
              "  </thead>\n",
              "  <tbody>\n",
              "    <tr>\n",
              "      <th>0</th>\n",
              "      <td>0</td>\n",
              "      <td>0</td>\n",
              "      <td>0</td>\n",
              "      <td>1</td>\n",
              "      <td>2015-07-07</td>\n",
              "      <td>289</td>\n",
              "      <td>36</td>\n",
              "      <td>33</td>\n",
              "      <td>239.554</td>\n",
              "      <td>30</td>\n",
              "      <td>1</td>\n",
              "      <td>2</td>\n",
              "      <td>1</td>\n",
              "      <td>4</td>\n",
              "      <td>7</td>\n",
              "    </tr>\n",
              "    <tr>\n",
              "      <th>1</th>\n",
              "      <td>0</td>\n",
              "      <td>0</td>\n",
              "      <td>0</td>\n",
              "      <td>0</td>\n",
              "      <td>2015-07-14</td>\n",
              "      <td>118</td>\n",
              "      <td>13</td>\n",
              "      <td>50</td>\n",
              "      <td>239.554</td>\n",
              "      <td>31</td>\n",
              "      <td>1</td>\n",
              "      <td>1</td>\n",
              "      <td>0</td>\n",
              "      <td>0</td>\n",
              "      <td>7</td>\n",
              "    </tr>\n",
              "    <tr>\n",
              "      <th>2</th>\n",
              "      <td>0</td>\n",
              "      <td>0</td>\n",
              "      <td>0</td>\n",
              "      <td>1</td>\n",
              "      <td>2015-07-15</td>\n",
              "      <td>179</td>\n",
              "      <td>51</td>\n",
              "      <td>38</td>\n",
              "      <td>239.554</td>\n",
              "      <td>31</td>\n",
              "      <td>1</td>\n",
              "      <td>0</td>\n",
              "      <td>0</td>\n",
              "      <td>2</td>\n",
              "      <td>7</td>\n",
              "    </tr>\n",
              "    <tr>\n",
              "      <th>3</th>\n",
              "      <td>1</td>\n",
              "      <td>0</td>\n",
              "      <td>0</td>\n",
              "      <td>0</td>\n",
              "      <td>2015-07-16</td>\n",
              "      <td>279</td>\n",
              "      <td>5</td>\n",
              "      <td>39</td>\n",
              "      <td>239.554</td>\n",
              "      <td>24</td>\n",
              "      <td>1</td>\n",
              "      <td>2</td>\n",
              "      <td>0</td>\n",
              "      <td>4</td>\n",
              "      <td>7</td>\n",
              "    </tr>\n",
              "    <tr>\n",
              "      <th>4</th>\n",
              "      <td>0</td>\n",
              "      <td>0</td>\n",
              "      <td>0</td>\n",
              "      <td>1</td>\n",
              "      <td>2015-07-23</td>\n",
              "      <td>289</td>\n",
              "      <td>36</td>\n",
              "      <td>33</td>\n",
              "      <td>239.554</td>\n",
              "      <td>30</td>\n",
              "      <td>1</td>\n",
              "      <td>2</td>\n",
              "      <td>1</td>\n",
              "      <td>2</td>\n",
              "      <td>7</td>\n",
              "    </tr>\n",
              "  </tbody>\n",
              "</table>\n",
              "</div>"
            ],
            "text/plain": [
              "   Reason_1  Reason_2  Reason_3  Reason_4       Date  Transportation Expense  \\\n",
              "0         0         0         0         1 2015-07-07                     289   \n",
              "1         0         0         0         0 2015-07-14                     118   \n",
              "2         0         0         0         1 2015-07-15                     179   \n",
              "3         1         0         0         0 2015-07-16                     279   \n",
              "4         0         0         0         1 2015-07-23                     289   \n",
              "\n",
              "   Distance to Work  Age  Daily Work Load Average  Body Mass Index  Education  \\\n",
              "0                36   33                  239.554               30          1   \n",
              "1                13   50                  239.554               31          1   \n",
              "2                51   38                  239.554               31          1   \n",
              "3                 5   39                  239.554               24          1   \n",
              "4                36   33                  239.554               30          1   \n",
              "\n",
              "   Children  Pets  Absenteeism Time in Hours  Month Value  \n",
              "0         2     1                          4            7  \n",
              "1         1     0                          0            7  \n",
              "2         0     0                          2            7  \n",
              "3         2     0                          4            7  \n",
              "4         2     1                          2            7  "
            ]
          },
          "execution_count": 30,
          "metadata": {},
          "output_type": "execute_result"
        }
      ],
      "source": [
        "df_reason_mod[\"Month Value\"] = list_months\n",
        "df_reason_mod.head()"
      ]
    },
    {
      "cell_type": "code",
      "execution_count": null,
      "metadata": {
        "scrolled": false,
        "id": "7wkN2XU01KGC",
        "outputId": "0d763ae2-1679-4163-c4f6-cd7dd08b0811"
      },
      "outputs": [
        {
          "data": {
            "text/plain": [
              "1"
            ]
          },
          "execution_count": 31,
          "metadata": {},
          "output_type": "execute_result"
        }
      ],
      "source": [
        "# extract the day of the week:0,1,2,3,4,5,6\n",
        "df_reason_mod[\"Date\"][0].weekday()"
      ]
    },
    {
      "cell_type": "code",
      "execution_count": null,
      "metadata": {
        "scrolled": false,
        "id": "YX4UBtnp1KGD"
      },
      "outputs": [],
      "source": [
        "def day_to_weekday(date_value):\n",
        "    return date_value.weekday()"
      ]
    },
    {
      "cell_type": "code",
      "execution_count": null,
      "metadata": {
        "scrolled": false,
        "id": "QT8SKgVq1KGD",
        "outputId": "cf9fa90e-a754-4bc7-d026-fa12beaec9c7"
      },
      "outputs": [
        {
          "data": {
            "text/html": [
              "<div>\n",
              "<style scoped>\n",
              "    .dataframe tbody tr th:only-of-type {\n",
              "        vertical-align: middle;\n",
              "    }\n",
              "\n",
              "    .dataframe tbody tr th {\n",
              "        vertical-align: top;\n",
              "    }\n",
              "\n",
              "    .dataframe thead th {\n",
              "        text-align: right;\n",
              "    }\n",
              "</style>\n",
              "<table border=\"1\" class=\"dataframe\">\n",
              "  <thead>\n",
              "    <tr style=\"text-align: right;\">\n",
              "      <th></th>\n",
              "      <th>Reason_1</th>\n",
              "      <th>Reason_2</th>\n",
              "      <th>Reason_3</th>\n",
              "      <th>Reason_4</th>\n",
              "      <th>Date</th>\n",
              "      <th>Transportation Expense</th>\n",
              "      <th>Distance to Work</th>\n",
              "      <th>Age</th>\n",
              "      <th>Daily Work Load Average</th>\n",
              "      <th>Body Mass Index</th>\n",
              "      <th>Education</th>\n",
              "      <th>Children</th>\n",
              "      <th>Pets</th>\n",
              "      <th>Absenteeism Time in Hours</th>\n",
              "      <th>Month Value</th>\n",
              "      <th>Day of the Week</th>\n",
              "    </tr>\n",
              "  </thead>\n",
              "  <tbody>\n",
              "    <tr>\n",
              "      <th>0</th>\n",
              "      <td>0</td>\n",
              "      <td>0</td>\n",
              "      <td>0</td>\n",
              "      <td>1</td>\n",
              "      <td>2015-07-07</td>\n",
              "      <td>289</td>\n",
              "      <td>36</td>\n",
              "      <td>33</td>\n",
              "      <td>239.554</td>\n",
              "      <td>30</td>\n",
              "      <td>1</td>\n",
              "      <td>2</td>\n",
              "      <td>1</td>\n",
              "      <td>4</td>\n",
              "      <td>7</td>\n",
              "      <td>1</td>\n",
              "    </tr>\n",
              "    <tr>\n",
              "      <th>1</th>\n",
              "      <td>0</td>\n",
              "      <td>0</td>\n",
              "      <td>0</td>\n",
              "      <td>0</td>\n",
              "      <td>2015-07-14</td>\n",
              "      <td>118</td>\n",
              "      <td>13</td>\n",
              "      <td>50</td>\n",
              "      <td>239.554</td>\n",
              "      <td>31</td>\n",
              "      <td>1</td>\n",
              "      <td>1</td>\n",
              "      <td>0</td>\n",
              "      <td>0</td>\n",
              "      <td>7</td>\n",
              "      <td>1</td>\n",
              "    </tr>\n",
              "    <tr>\n",
              "      <th>2</th>\n",
              "      <td>0</td>\n",
              "      <td>0</td>\n",
              "      <td>0</td>\n",
              "      <td>1</td>\n",
              "      <td>2015-07-15</td>\n",
              "      <td>179</td>\n",
              "      <td>51</td>\n",
              "      <td>38</td>\n",
              "      <td>239.554</td>\n",
              "      <td>31</td>\n",
              "      <td>1</td>\n",
              "      <td>0</td>\n",
              "      <td>0</td>\n",
              "      <td>2</td>\n",
              "      <td>7</td>\n",
              "      <td>2</td>\n",
              "    </tr>\n",
              "    <tr>\n",
              "      <th>3</th>\n",
              "      <td>1</td>\n",
              "      <td>0</td>\n",
              "      <td>0</td>\n",
              "      <td>0</td>\n",
              "      <td>2015-07-16</td>\n",
              "      <td>279</td>\n",
              "      <td>5</td>\n",
              "      <td>39</td>\n",
              "      <td>239.554</td>\n",
              "      <td>24</td>\n",
              "      <td>1</td>\n",
              "      <td>2</td>\n",
              "      <td>0</td>\n",
              "      <td>4</td>\n",
              "      <td>7</td>\n",
              "      <td>3</td>\n",
              "    </tr>\n",
              "    <tr>\n",
              "      <th>4</th>\n",
              "      <td>0</td>\n",
              "      <td>0</td>\n",
              "      <td>0</td>\n",
              "      <td>1</td>\n",
              "      <td>2015-07-23</td>\n",
              "      <td>289</td>\n",
              "      <td>36</td>\n",
              "      <td>33</td>\n",
              "      <td>239.554</td>\n",
              "      <td>30</td>\n",
              "      <td>1</td>\n",
              "      <td>2</td>\n",
              "      <td>1</td>\n",
              "      <td>2</td>\n",
              "      <td>7</td>\n",
              "      <td>3</td>\n",
              "    </tr>\n",
              "  </tbody>\n",
              "</table>\n",
              "</div>"
            ],
            "text/plain": [
              "   Reason_1  Reason_2  Reason_3  Reason_4       Date  Transportation Expense  \\\n",
              "0         0         0         0         1 2015-07-07                     289   \n",
              "1         0         0         0         0 2015-07-14                     118   \n",
              "2         0         0         0         1 2015-07-15                     179   \n",
              "3         1         0         0         0 2015-07-16                     279   \n",
              "4         0         0         0         1 2015-07-23                     289   \n",
              "\n",
              "   Distance to Work  Age  Daily Work Load Average  Body Mass Index  Education  \\\n",
              "0                36   33                  239.554               30          1   \n",
              "1                13   50                  239.554               31          1   \n",
              "2                51   38                  239.554               31          1   \n",
              "3                 5   39                  239.554               24          1   \n",
              "4                36   33                  239.554               30          1   \n",
              "\n",
              "   Children  Pets  Absenteeism Time in Hours  Month Value  Day of the Week  \n",
              "0         2     1                          4            7                1  \n",
              "1         1     0                          0            7                1  \n",
              "2         0     0                          2            7                2  \n",
              "3         2     0                          4            7                3  \n",
              "4         2     1                          2            7                3  "
            ]
          },
          "execution_count": 33,
          "metadata": {},
          "output_type": "execute_result"
        }
      ],
      "source": [
        "df_reason_mod[\"Day of the Week\"] = df_reason_mod[\"Date\"].apply(day_to_weekday)\n",
        "df_reason_mod.head()"
      ]
    },
    {
      "cell_type": "markdown",
      "metadata": {
        "id": "jzQsBCuJ1KGD"
      },
      "source": [
        "## Education\n",
        "* 1:High School\n",
        "* 2:Graduate\n",
        "* 3:Postgraduate\n",
        "* 4:Master or Doctor"
      ]
    },
    {
      "cell_type": "code",
      "execution_count": null,
      "metadata": {
        "scrolled": false,
        "id": "DzBlHjJx1KGD",
        "outputId": "6423493e-328f-43b6-eba0-24e9276eb7b7"
      },
      "outputs": [
        {
          "data": {
            "text/plain": [
              "array([1, 3, 2, 4])"
            ]
          },
          "execution_count": 34,
          "metadata": {},
          "output_type": "execute_result"
        }
      ],
      "source": [
        "# Education:\n",
        "df_reason_mod[\"Education\"].unique()"
      ]
    },
    {
      "cell_type": "code",
      "execution_count": null,
      "metadata": {
        "scrolled": false,
        "id": "9O2L1JnG1KGD",
        "outputId": "da62b63b-a490-405c-a3f4-22e5ca300aa7"
      },
      "outputs": [
        {
          "data": {
            "text/plain": [
              "1    575\n",
              "3     73\n",
              "2     40\n",
              "4      4\n",
              "Name: Education, dtype: int64"
            ]
          },
          "execution_count": 35,
          "metadata": {},
          "output_type": "execute_result"
        }
      ],
      "source": [
        "df_reason_mod[\"Education\"].value_counts()"
      ]
    },
    {
      "cell_type": "code",
      "execution_count": null,
      "metadata": {
        "scrolled": false,
        "id": "IxE1YYeY1KGD"
      },
      "outputs": [],
      "source": [
        "# 1 => 0\n",
        "# 2,3,4 => 1\n",
        "df_reason_mod[\"Education\"] = df_reason_mod[\"Education\"].map({1:0,2:1,3:1,4:1})"
      ]
    },
    {
      "cell_type": "code",
      "execution_count": null,
      "metadata": {
        "scrolled": false,
        "id": "OmW66x2T1KGD",
        "outputId": "33ef5aac-0090-4680-c869-086d701542d1"
      },
      "outputs": [
        {
          "data": {
            "text/plain": [
              "array([0, 1])"
            ]
          },
          "execution_count": 37,
          "metadata": {},
          "output_type": "execute_result"
        }
      ],
      "source": [
        "df_reason_mod[\"Education\"].unique()"
      ]
    },
    {
      "cell_type": "code",
      "execution_count": null,
      "metadata": {
        "scrolled": false,
        "id": "dCzkel6V1KGD",
        "outputId": "97085409-e973-43d2-f5d4-dba00c14db9e"
      },
      "outputs": [
        {
          "data": {
            "text/plain": [
              "0    575\n",
              "1    117\n",
              "Name: Education, dtype: int64"
            ]
          },
          "execution_count": 38,
          "metadata": {},
          "output_type": "execute_result"
        }
      ],
      "source": [
        "df_reason_mod[\"Education\"].value_counts()"
      ]
    },
    {
      "cell_type": "markdown",
      "metadata": {
        "id": "W_qe8BY01KGD"
      },
      "source": [
        "<a id = \"12\"></a><br>\n",
        "## Logistic Regression"
      ]
    },
    {
      "cell_type": "markdown",
      "metadata": {
        "id": "ns7F_YBl1KGE"
      },
      "source": [
        "### Create Targets"
      ]
    },
    {
      "cell_type": "code",
      "execution_count": null,
      "metadata": {
        "scrolled": false,
        "id": "gLHCXSe61KGE"
      },
      "outputs": [],
      "source": [
        "# create a checkpoint\n",
        "df_model = df_reason_mod.copy()"
      ]
    },
    {
      "cell_type": "code",
      "execution_count": null,
      "metadata": {
        "scrolled": false,
        "id": "2ctyqlpC1KGE",
        "outputId": "84afb589-8789-48bc-f616-10198ed783df"
      },
      "outputs": [
        {
          "data": {
            "text/plain": [
              "3.0"
            ]
          },
          "execution_count": 40,
          "metadata": {},
          "output_type": "execute_result"
        }
      ],
      "source": [
        "# use median cut-off hours and making targets \n",
        "df_model[\"Absenteeism Time in Hours\"].median()"
      ]
    },
    {
      "cell_type": "markdown",
      "metadata": {
        "id": "Qr5be27W1KGE"
      },
      "source": [
        "### Moderately Absent <= 3\n",
        "### Excessively Absent > 4"
      ]
    },
    {
      "cell_type": "code",
      "execution_count": null,
      "metadata": {
        "scrolled": false,
        "id": "qfScxYGj1KGE",
        "outputId": "24580998-edd9-41c3-d73a-993239802708"
      },
      "outputs": [
        {
          "data": {
            "text/plain": [
              "array([1, 0, 0, 1, 0, 0, 1, 1, 1, 1])"
            ]
          },
          "execution_count": 41,
          "metadata": {},
          "output_type": "execute_result"
        }
      ],
      "source": [
        "targets = np.where(df_model[\"Absenteeism Time in Hours\"] > 3, 1, 0)\n",
        "targets[0:10]"
      ]
    },
    {
      "cell_type": "code",
      "execution_count": null,
      "metadata": {
        "scrolled": false,
        "id": "CLQI5JG-1KGE",
        "outputId": "60c8093c-23ed-4c1b-ce1f-3239dec5d9c3"
      },
      "outputs": [
        {
          "data": {
            "text/html": [
              "<div>\n",
              "<style scoped>\n",
              "    .dataframe tbody tr th:only-of-type {\n",
              "        vertical-align: middle;\n",
              "    }\n",
              "\n",
              "    .dataframe tbody tr th {\n",
              "        vertical-align: top;\n",
              "    }\n",
              "\n",
              "    .dataframe thead th {\n",
              "        text-align: right;\n",
              "    }\n",
              "</style>\n",
              "<table border=\"1\" class=\"dataframe\">\n",
              "  <thead>\n",
              "    <tr style=\"text-align: right;\">\n",
              "      <th></th>\n",
              "      <th>Reason_1</th>\n",
              "      <th>Reason_2</th>\n",
              "      <th>Reason_3</th>\n",
              "      <th>Reason_4</th>\n",
              "      <th>Date</th>\n",
              "      <th>Transportation Expense</th>\n",
              "      <th>Distance to Work</th>\n",
              "      <th>Age</th>\n",
              "      <th>Daily Work Load Average</th>\n",
              "      <th>Body Mass Index</th>\n",
              "      <th>Education</th>\n",
              "      <th>Children</th>\n",
              "      <th>Pets</th>\n",
              "      <th>Absenteeism Time in Hours</th>\n",
              "      <th>Month Value</th>\n",
              "      <th>Day of the Week</th>\n",
              "      <th>Excessive Absenteeism</th>\n",
              "    </tr>\n",
              "  </thead>\n",
              "  <tbody>\n",
              "    <tr>\n",
              "      <th>0</th>\n",
              "      <td>0</td>\n",
              "      <td>0</td>\n",
              "      <td>0</td>\n",
              "      <td>1</td>\n",
              "      <td>2015-07-07</td>\n",
              "      <td>289</td>\n",
              "      <td>36</td>\n",
              "      <td>33</td>\n",
              "      <td>239.554</td>\n",
              "      <td>30</td>\n",
              "      <td>0</td>\n",
              "      <td>2</td>\n",
              "      <td>1</td>\n",
              "      <td>4</td>\n",
              "      <td>7</td>\n",
              "      <td>1</td>\n",
              "      <td>1</td>\n",
              "    </tr>\n",
              "    <tr>\n",
              "      <th>1</th>\n",
              "      <td>0</td>\n",
              "      <td>0</td>\n",
              "      <td>0</td>\n",
              "      <td>0</td>\n",
              "      <td>2015-07-14</td>\n",
              "      <td>118</td>\n",
              "      <td>13</td>\n",
              "      <td>50</td>\n",
              "      <td>239.554</td>\n",
              "      <td>31</td>\n",
              "      <td>0</td>\n",
              "      <td>1</td>\n",
              "      <td>0</td>\n",
              "      <td>0</td>\n",
              "      <td>7</td>\n",
              "      <td>1</td>\n",
              "      <td>0</td>\n",
              "    </tr>\n",
              "    <tr>\n",
              "      <th>2</th>\n",
              "      <td>0</td>\n",
              "      <td>0</td>\n",
              "      <td>0</td>\n",
              "      <td>1</td>\n",
              "      <td>2015-07-15</td>\n",
              "      <td>179</td>\n",
              "      <td>51</td>\n",
              "      <td>38</td>\n",
              "      <td>239.554</td>\n",
              "      <td>31</td>\n",
              "      <td>0</td>\n",
              "      <td>0</td>\n",
              "      <td>0</td>\n",
              "      <td>2</td>\n",
              "      <td>7</td>\n",
              "      <td>2</td>\n",
              "      <td>0</td>\n",
              "    </tr>\n",
              "    <tr>\n",
              "      <th>3</th>\n",
              "      <td>1</td>\n",
              "      <td>0</td>\n",
              "      <td>0</td>\n",
              "      <td>0</td>\n",
              "      <td>2015-07-16</td>\n",
              "      <td>279</td>\n",
              "      <td>5</td>\n",
              "      <td>39</td>\n",
              "      <td>239.554</td>\n",
              "      <td>24</td>\n",
              "      <td>0</td>\n",
              "      <td>2</td>\n",
              "      <td>0</td>\n",
              "      <td>4</td>\n",
              "      <td>7</td>\n",
              "      <td>3</td>\n",
              "      <td>1</td>\n",
              "    </tr>\n",
              "    <tr>\n",
              "      <th>4</th>\n",
              "      <td>0</td>\n",
              "      <td>0</td>\n",
              "      <td>0</td>\n",
              "      <td>1</td>\n",
              "      <td>2015-07-23</td>\n",
              "      <td>289</td>\n",
              "      <td>36</td>\n",
              "      <td>33</td>\n",
              "      <td>239.554</td>\n",
              "      <td>30</td>\n",
              "      <td>0</td>\n",
              "      <td>2</td>\n",
              "      <td>1</td>\n",
              "      <td>2</td>\n",
              "      <td>7</td>\n",
              "      <td>3</td>\n",
              "      <td>0</td>\n",
              "    </tr>\n",
              "  </tbody>\n",
              "</table>\n",
              "</div>"
            ],
            "text/plain": [
              "   Reason_1  Reason_2  Reason_3  Reason_4       Date  Transportation Expense  \\\n",
              "0         0         0         0         1 2015-07-07                     289   \n",
              "1         0         0         0         0 2015-07-14                     118   \n",
              "2         0         0         0         1 2015-07-15                     179   \n",
              "3         1         0         0         0 2015-07-16                     279   \n",
              "4         0         0         0         1 2015-07-23                     289   \n",
              "\n",
              "   Distance to Work  Age  Daily Work Load Average  Body Mass Index  Education  \\\n",
              "0                36   33                  239.554               30          0   \n",
              "1                13   50                  239.554               31          0   \n",
              "2                51   38                  239.554               31          0   \n",
              "3                 5   39                  239.554               24          0   \n",
              "4                36   33                  239.554               30          0   \n",
              "\n",
              "   Children  Pets  Absenteeism Time in Hours  Month Value  Day of the Week  \\\n",
              "0         2     1                          4            7                1   \n",
              "1         1     0                          0            7                1   \n",
              "2         0     0                          2            7                2   \n",
              "3         2     0                          4            7                3   \n",
              "4         2     1                          2            7                3   \n",
              "\n",
              "   Excessive Absenteeism  \n",
              "0                      1  \n",
              "1                      0  \n",
              "2                      0  \n",
              "3                      1  \n",
              "4                      0  "
            ]
          },
          "execution_count": 42,
          "metadata": {},
          "output_type": "execute_result"
        }
      ],
      "source": [
        "# add to df\n",
        "df_model[\"Excessive Absenteeism\"] = targets\n",
        "df_model.head()"
      ]
    },
    {
      "cell_type": "code",
      "execution_count": null,
      "metadata": {
        "scrolled": false,
        "id": "efQi0Eu01KGE",
        "outputId": "c39ba7e1-be85-46bf-e9fb-f3071ddd78d4"
      },
      "outputs": [
        {
          "data": {
            "text/plain": [
              "0    373\n",
              "1    319\n",
              "dtype: int64"
            ]
          },
          "execution_count": 43,
          "metadata": {},
          "output_type": "execute_result"
        }
      ],
      "source": [
        "targets = pd.Series(targets)\n",
        "targets.value_counts()"
      ]
    },
    {
      "cell_type": "code",
      "execution_count": null,
      "metadata": {
        "scrolled": false,
        "id": "GucSCzwU1KGF"
      },
      "outputs": [],
      "source": [
        "# drop Absenteeism Time in Hours\n",
        "df_model.drop([\"Absenteeism Time in Hours\",\"Date\"],axis=1,inplace=True)"
      ]
    },
    {
      "cell_type": "code",
      "execution_count": null,
      "metadata": {
        "scrolled": false,
        "id": "Thg1oznd1KGF",
        "outputId": "5a15b55e-4740-4850-ab63-ed5397524dd7"
      },
      "outputs": [
        {
          "data": {
            "text/plain": [
              "False"
            ]
          },
          "execution_count": 45,
          "metadata": {},
          "output_type": "execute_result"
        }
      ],
      "source": [
        "df_model is df_reason_mod"
      ]
    },
    {
      "cell_type": "markdown",
      "metadata": {
        "id": "utAG3A3F1KGF"
      },
      "source": [
        "### Select Inputs"
      ]
    },
    {
      "cell_type": "code",
      "execution_count": null,
      "metadata": {
        "scrolled": false,
        "id": "iUaJYxn51KGF"
      },
      "outputs": [],
      "source": [
        "unscaled_inputs = df_model.iloc[:,:-1]"
      ]
    },
    {
      "cell_type": "markdown",
      "metadata": {
        "id": "fQtx-VV41KGF"
      },
      "source": [
        "<a id = \"13\"></a><br>\n",
        "## Standardize The Data\n",
        "* Omit Dummy Features"
      ]
    },
    {
      "cell_type": "code",
      "execution_count": null,
      "metadata": {
        "scrolled": false,
        "id": "N9D4M78B1KGF"
      },
      "outputs": [],
      "source": [
        "# this class is just for selecting features to standardization:\n",
        "\n",
        "from sklearn.base import BaseEstimator, TransformerMixin\n",
        "from sklearn.preprocessing import StandardScaler\n",
        "\n",
        "class CustomScaler(BaseEstimator,TransformerMixin): \n",
        "    \n",
        "    def __init__(self,columns,copy=True,with_mean=True,with_std=True):\n",
        "        self.scaler = StandardScaler(copy,with_mean,with_std)\n",
        "        self.columns = columns\n",
        "        self.mean_ = None\n",
        "        self.var_ = None\n",
        "\n",
        "    def fit(self, X, y=None):\n",
        "        self.scaler.fit(X[self.columns], y)\n",
        "        self.mean_ = np.mean(X[self.columns])\n",
        "        self.var_ = np.var(X[self.columns])\n",
        "        return self\n",
        "\n",
        "    def transform(self, X, y=None, copy=None):\n",
        "        init_col_order = X.columns\n",
        "        X_scaled = pd.DataFrame(self.scaler.transform(X[self.columns]), columns=self.columns)\n",
        "        X_not_scaled = X.loc[:,~X.columns.isin(self.columns)]\n",
        "        return pd.concat([X_not_scaled, X_scaled], axis=1)[init_col_order]\n"
      ]
    },
    {
      "cell_type": "code",
      "execution_count": null,
      "metadata": {
        "id": "whDQUhs91KGF",
        "outputId": "db5a963e-16c4-4c31-81fe-776a7d07a988"
      },
      "outputs": [
        {
          "data": {
            "text/plain": [
              "array(['Reason_1', 'Reason_2', 'Reason_3', 'Reason_4',\n",
              "       'Transportation Expense', 'Distance to Work', 'Age',\n",
              "       'Daily Work Load Average', 'Body Mass Index', 'Education',\n",
              "       'Children', 'Pets', 'Month Value', 'Day of the Week'], dtype=object)"
            ]
          },
          "execution_count": 48,
          "metadata": {},
          "output_type": "execute_result"
        }
      ],
      "source": [
        "unscaled_inputs.columns.values"
      ]
    },
    {
      "cell_type": "code",
      "execution_count": null,
      "metadata": {
        "id": "EQPqup5G1KGF"
      },
      "outputs": [],
      "source": [
        "columns_to_scale = ['Month Value','Day of the Week', 'Transportation Expense', 'Distance to Work',\n",
        "                    'Age', 'Daily Work Load Average', 'Body Mass Index', 'Children', 'Pets']\n",
        "\n",
        "# Because these features are dummy variable\n",
        "# columns_to_omit = ['Reason_1', 'Reason_2', 'Reason_3', 'Reason_4','Education'] "
      ]
    },
    {
      "cell_type": "code",
      "execution_count": null,
      "metadata": {
        "scrolled": false,
        "id": "HjQtc6081KGF"
      },
      "outputs": [],
      "source": [
        "sc = CustomScaler(columns_to_scale)"
      ]
    },
    {
      "cell_type": "code",
      "execution_count": null,
      "metadata": {
        "id": "KEzhKh-P1KGF",
        "outputId": "3306a481-ad03-4923-d227-f5126021c803"
      },
      "outputs": [
        {
          "data": {
            "text/html": [
              "<div>\n",
              "<style scoped>\n",
              "    .dataframe tbody tr th:only-of-type {\n",
              "        vertical-align: middle;\n",
              "    }\n",
              "\n",
              "    .dataframe tbody tr th {\n",
              "        vertical-align: top;\n",
              "    }\n",
              "\n",
              "    .dataframe thead th {\n",
              "        text-align: right;\n",
              "    }\n",
              "</style>\n",
              "<table border=\"1\" class=\"dataframe\">\n",
              "  <thead>\n",
              "    <tr style=\"text-align: right;\">\n",
              "      <th></th>\n",
              "      <th>Reason_1</th>\n",
              "      <th>Reason_2</th>\n",
              "      <th>Reason_3</th>\n",
              "      <th>Reason_4</th>\n",
              "      <th>Transportation Expense</th>\n",
              "      <th>Distance to Work</th>\n",
              "      <th>Age</th>\n",
              "      <th>Daily Work Load Average</th>\n",
              "      <th>Body Mass Index</th>\n",
              "      <th>Education</th>\n",
              "      <th>Children</th>\n",
              "      <th>Pets</th>\n",
              "      <th>Month Value</th>\n",
              "      <th>Day of the Week</th>\n",
              "    </tr>\n",
              "  </thead>\n",
              "  <tbody>\n",
              "    <tr>\n",
              "      <th>0</th>\n",
              "      <td>0</td>\n",
              "      <td>0</td>\n",
              "      <td>0</td>\n",
              "      <td>1</td>\n",
              "      <td>0.998885</td>\n",
              "      <td>0.409831</td>\n",
              "      <td>-0.529189</td>\n",
              "      <td>-0.803696</td>\n",
              "      <td>0.774506</td>\n",
              "      <td>0</td>\n",
              "      <td>0.869872</td>\n",
              "      <td>0.260694</td>\n",
              "      <td>0.175838</td>\n",
              "      <td>-0.685271</td>\n",
              "    </tr>\n",
              "    <tr>\n",
              "      <th>1</th>\n",
              "      <td>0</td>\n",
              "      <td>0</td>\n",
              "      <td>0</td>\n",
              "      <td>0</td>\n",
              "      <td>-1.582804</td>\n",
              "      <td>-1.147311</td>\n",
              "      <td>2.126691</td>\n",
              "      <td>-0.803696</td>\n",
              "      <td>1.010195</td>\n",
              "      <td>0</td>\n",
              "      <td>-0.028563</td>\n",
              "      <td>-0.594284</td>\n",
              "      <td>0.175838</td>\n",
              "      <td>-0.685271</td>\n",
              "    </tr>\n",
              "    <tr>\n",
              "      <th>2</th>\n",
              "      <td>0</td>\n",
              "      <td>0</td>\n",
              "      <td>0</td>\n",
              "      <td>1</td>\n",
              "      <td>-0.661851</td>\n",
              "      <td>1.425359</td>\n",
              "      <td>0.251952</td>\n",
              "      <td>-0.803696</td>\n",
              "      <td>1.010195</td>\n",
              "      <td>0</td>\n",
              "      <td>-0.926998</td>\n",
              "      <td>-0.594284</td>\n",
              "      <td>0.175838</td>\n",
              "      <td>-0.010723</td>\n",
              "    </tr>\n",
              "    <tr>\n",
              "      <th>3</th>\n",
              "      <td>1</td>\n",
              "      <td>0</td>\n",
              "      <td>0</td>\n",
              "      <td>0</td>\n",
              "      <td>0.847909</td>\n",
              "      <td>-1.688926</td>\n",
              "      <td>0.408180</td>\n",
              "      <td>-0.803696</td>\n",
              "      <td>-0.639631</td>\n",
              "      <td>0</td>\n",
              "      <td>0.869872</td>\n",
              "      <td>-0.594284</td>\n",
              "      <td>0.175838</td>\n",
              "      <td>0.663826</td>\n",
              "    </tr>\n",
              "    <tr>\n",
              "      <th>4</th>\n",
              "      <td>0</td>\n",
              "      <td>0</td>\n",
              "      <td>0</td>\n",
              "      <td>1</td>\n",
              "      <td>0.998885</td>\n",
              "      <td>0.409831</td>\n",
              "      <td>-0.529189</td>\n",
              "      <td>-0.803696</td>\n",
              "      <td>0.774506</td>\n",
              "      <td>0</td>\n",
              "      <td>0.869872</td>\n",
              "      <td>0.260694</td>\n",
              "      <td>0.175838</td>\n",
              "      <td>0.663826</td>\n",
              "    </tr>\n",
              "  </tbody>\n",
              "</table>\n",
              "</div>"
            ],
            "text/plain": [
              "   Reason_1  Reason_2  Reason_3  Reason_4  Transportation Expense  \\\n",
              "0         0         0         0         1                0.998885   \n",
              "1         0         0         0         0               -1.582804   \n",
              "2         0         0         0         1               -0.661851   \n",
              "3         1         0         0         0                0.847909   \n",
              "4         0         0         0         1                0.998885   \n",
              "\n",
              "   Distance to Work       Age  Daily Work Load Average  Body Mass Index  \\\n",
              "0          0.409831 -0.529189                -0.803696         0.774506   \n",
              "1         -1.147311  2.126691                -0.803696         1.010195   \n",
              "2          1.425359  0.251952                -0.803696         1.010195   \n",
              "3         -1.688926  0.408180                -0.803696        -0.639631   \n",
              "4          0.409831 -0.529189                -0.803696         0.774506   \n",
              "\n",
              "   Education  Children      Pets  Month Value  Day of the Week  \n",
              "0          0  0.869872  0.260694     0.175838        -0.685271  \n",
              "1          0 -0.028563 -0.594284     0.175838        -0.685271  \n",
              "2          0 -0.926998 -0.594284     0.175838        -0.010723  \n",
              "3          0  0.869872 -0.594284     0.175838         0.663826  \n",
              "4          0  0.869872  0.260694     0.175838         0.663826  "
            ]
          },
          "execution_count": 51,
          "metadata": {},
          "output_type": "execute_result"
        }
      ],
      "source": [
        "scaled_inputs = sc.fit_transform(unscaled_inputs)\n",
        "scaled_inputs.head()"
      ]
    },
    {
      "cell_type": "markdown",
      "metadata": {
        "id": "1McuVY3Y1KGG"
      },
      "source": [
        "<a id = \"14\"></a><br>\n",
        "## Train-Test Split of Data"
      ]
    },
    {
      "cell_type": "code",
      "execution_count": null,
      "metadata": {
        "scrolled": false,
        "id": "rkLYAc241KGG"
      },
      "outputs": [],
      "source": [
        "from sklearn.model_selection import train_test_split"
      ]
    },
    {
      "cell_type": "code",
      "execution_count": null,
      "metadata": {
        "scrolled": false,
        "id": "1ZWLNuw21KGG"
      },
      "outputs": [],
      "source": [
        "x_train, x_test, y_train, y_test = train_test_split(scaled_inputs,targets,train_size=0.8,shuffle=True,random_state=7)"
      ]
    },
    {
      "cell_type": "code",
      "execution_count": null,
      "metadata": {
        "scrolled": false,
        "id": "XDhEGT5N1KGG",
        "outputId": "4f5c6d58-d3d9-4128-c27e-08b8a6014ca4"
      },
      "outputs": [
        {
          "data": {
            "text/plain": [
              "((553, 14), (553,))"
            ]
          },
          "execution_count": 54,
          "metadata": {},
          "output_type": "execute_result"
        }
      ],
      "source": [
        "x_train.shape, y_train.shape"
      ]
    },
    {
      "cell_type": "code",
      "execution_count": null,
      "metadata": {
        "scrolled": false,
        "id": "xvqHKDz-1KGG",
        "outputId": "ac172be6-442d-4ede-ecf8-9b854530f377"
      },
      "outputs": [
        {
          "data": {
            "text/plain": [
              "((139, 14), (139,))"
            ]
          },
          "execution_count": 55,
          "metadata": {},
          "output_type": "execute_result"
        }
      ],
      "source": [
        "x_test.shape, y_test.shape"
      ]
    },
    {
      "cell_type": "markdown",
      "metadata": {
        "id": "BStQxxqm1KGG"
      },
      "source": [
        "<a id = \"15\"></a><br>\n",
        "## Model"
      ]
    },
    {
      "cell_type": "code",
      "execution_count": null,
      "metadata": {
        "id": "neWa0xk11KGG"
      },
      "outputs": [],
      "source": [
        "from sklearn.linear_model import LogisticRegression\n",
        "from sklearn import metrics"
      ]
    },
    {
      "cell_type": "markdown",
      "metadata": {
        "id": "SzPEG5vT1KGG"
      },
      "source": [
        "### Training The Model"
      ]
    },
    {
      "cell_type": "code",
      "execution_count": null,
      "metadata": {
        "id": "7Jz-U6ML1KGG"
      },
      "outputs": [],
      "source": [
        "reg = LogisticRegression()"
      ]
    },
    {
      "cell_type": "code",
      "execution_count": null,
      "metadata": {
        "id": "dl_I32jr1KGH",
        "outputId": "553c3512-3210-4d62-d206-9c8308e5b8cc"
      },
      "outputs": [
        {
          "data": {
            "text/plain": [
              "LogisticRegression(C=1.0, class_weight=None, dual=False, fit_intercept=True,\n",
              "                   intercept_scaling=1, l1_ratio=None, max_iter=100,\n",
              "                   multi_class='auto', n_jobs=None, penalty='l2',\n",
              "                   random_state=None, solver='lbfgs', tol=0.0001, verbose=0,\n",
              "                   warm_start=False)"
            ]
          },
          "execution_count": 58,
          "metadata": {},
          "output_type": "execute_result"
        }
      ],
      "source": [
        "reg.fit(x_train,y_train)"
      ]
    },
    {
      "cell_type": "code",
      "execution_count": null,
      "metadata": {
        "id": "qFMBRaOf1KGH",
        "outputId": "b0169546-8b3e-45ab-c24c-4175ed51b621"
      },
      "outputs": [
        {
          "data": {
            "text/plain": [
              "0.7414104882459313"
            ]
          },
          "execution_count": 59,
          "metadata": {},
          "output_type": "execute_result"
        }
      ],
      "source": [
        "reg.score(x_train,y_train)"
      ]
    },
    {
      "cell_type": "markdown",
      "metadata": {
        "id": "Gnp1GLgg1KGH"
      },
      "source": [
        "### Manually Check The Accuracy"
      ]
    },
    {
      "cell_type": "code",
      "execution_count": null,
      "metadata": {
        "id": "DkS07Qn81KGH"
      },
      "outputs": [],
      "source": [
        "model_outputs = reg.predict(x_train)"
      ]
    },
    {
      "cell_type": "code",
      "execution_count": null,
      "metadata": {
        "id": "f8c4XzyH1KGH",
        "outputId": "d3cebb71-2dd9-4d93-b0d9-4ba8c740e7e8"
      },
      "outputs": [
        {
          "data": {
            "text/plain": [
              "48      True\n",
              "134     True\n",
              "679     True\n",
              "236    False\n",
              "55      True\n",
              "       ...  \n",
              "579     True\n",
              "502    False\n",
              "537    False\n",
              "196     True\n",
              "175     True\n",
              "Length: 553, dtype: bool"
            ]
          },
          "execution_count": 61,
          "metadata": {},
          "output_type": "execute_result"
        }
      ],
      "source": [
        "model_outputs == y_train"
      ]
    },
    {
      "cell_type": "code",
      "execution_count": null,
      "metadata": {
        "id": "UT6RoaLE1KGH",
        "outputId": "455a00a3-dd04-46c8-fd7f-75aa774b793f"
      },
      "outputs": [
        {
          "data": {
            "text/plain": [
              "410"
            ]
          },
          "execution_count": 62,
          "metadata": {},
          "output_type": "execute_result"
        }
      ],
      "source": [
        "np.sum(model_outputs == y_train)"
      ]
    },
    {
      "cell_type": "code",
      "execution_count": null,
      "metadata": {
        "id": "KsOaAhQN1KGH",
        "outputId": "eeb65722-3a5b-468b-9a88-d3b639c4ed1c"
      },
      "outputs": [
        {
          "data": {
            "text/plain": [
              "(553,)"
            ]
          },
          "execution_count": 63,
          "metadata": {},
          "output_type": "execute_result"
        }
      ],
      "source": [
        "model_outputs.shape"
      ]
    },
    {
      "cell_type": "code",
      "execution_count": null,
      "metadata": {
        "id": "kO2cEx_C1KGH",
        "outputId": "d14f9b7f-0913-4841-af14-b8f0e6da5cc1"
      },
      "outputs": [
        {
          "data": {
            "text/plain": [
              "0.7414104882459313"
            ]
          },
          "execution_count": 64,
          "metadata": {},
          "output_type": "execute_result"
        }
      ],
      "source": [
        "np.sum(model_outputs == y_train) / model_outputs.shape[0]"
      ]
    },
    {
      "cell_type": "code",
      "execution_count": null,
      "metadata": {
        "id": "qZ0L6Wmy1KGH",
        "outputId": "98b0dd50-6b3a-43f6-d9ca-3eeb5221d4ff"
      },
      "outputs": [
        {
          "data": {
            "text/plain": [
              "True"
            ]
          },
          "execution_count": 65,
          "metadata": {},
          "output_type": "execute_result"
        }
      ],
      "source": [
        "np.sum(model_outputs == y_train) / model_outputs.shape[0] == reg.score(x_train,y_train)"
      ]
    },
    {
      "cell_type": "markdown",
      "metadata": {
        "id": "lvsfWrNI1KGI"
      },
      "source": [
        "<a id = \"16\"></a><br>\n",
        "## Finding The Intercept & Coefficients"
      ]
    },
    {
      "cell_type": "code",
      "execution_count": null,
      "metadata": {
        "id": "rZigvWL51KGI",
        "outputId": "dfd4a40d-3a22-44cc-a3f6-03305cf0bbe1"
      },
      "outputs": [
        {
          "data": {
            "text/plain": [
              "array([-1.55208786])"
            ]
          },
          "execution_count": 66,
          "metadata": {},
          "output_type": "execute_result"
        }
      ],
      "source": [
        "reg.intercept_"
      ]
    },
    {
      "cell_type": "code",
      "execution_count": null,
      "metadata": {
        "id": "trIsp4bB1KGI",
        "outputId": "4e5db0c8-b790-45ef-cbdd-e03b828169e0"
      },
      "outputs": [
        {
          "data": {
            "text/plain": [
              "array([[ 2.79011295],\n",
              "       [ 1.0340849 ],\n",
              "       [ 2.7373299 ],\n",
              "       [ 0.82395998],\n",
              "       [ 0.5624909 ],\n",
              "       [ 0.0244116 ],\n",
              "       [-0.12011658],\n",
              "       [-0.06778212],\n",
              "       [ 0.24480056],\n",
              "       [-0.17750591],\n",
              "       [ 0.47313108],\n",
              "       [-0.30496399],\n",
              "       [ 0.11536176],\n",
              "       [-0.17782254]])"
            ]
          },
          "execution_count": 67,
          "metadata": {},
          "output_type": "execute_result"
        }
      ],
      "source": [
        "reg.coef_.T"
      ]
    },
    {
      "cell_type": "code",
      "execution_count": null,
      "metadata": {
        "id": "6w12HxZl1KGI",
        "outputId": "32f698ce-ff78-4e2b-d963-a2ade9e373b1"
      },
      "outputs": [
        {
          "data": {
            "text/html": [
              "<div>\n",
              "<style scoped>\n",
              "    .dataframe tbody tr th:only-of-type {\n",
              "        vertical-align: middle;\n",
              "    }\n",
              "\n",
              "    .dataframe tbody tr th {\n",
              "        vertical-align: top;\n",
              "    }\n",
              "\n",
              "    .dataframe thead th {\n",
              "        text-align: right;\n",
              "    }\n",
              "</style>\n",
              "<table border=\"1\" class=\"dataframe\">\n",
              "  <thead>\n",
              "    <tr style=\"text-align: right;\">\n",
              "      <th></th>\n",
              "      <th>Feature Name</th>\n",
              "      <th>Coefficient</th>\n",
              "    </tr>\n",
              "  </thead>\n",
              "  <tbody>\n",
              "    <tr>\n",
              "      <th>0</th>\n",
              "      <td>Reason_1</td>\n",
              "      <td>2.790113</td>\n",
              "    </tr>\n",
              "    <tr>\n",
              "      <th>1</th>\n",
              "      <td>Reason_2</td>\n",
              "      <td>1.034085</td>\n",
              "    </tr>\n",
              "    <tr>\n",
              "      <th>2</th>\n",
              "      <td>Reason_3</td>\n",
              "      <td>2.737330</td>\n",
              "    </tr>\n",
              "    <tr>\n",
              "      <th>3</th>\n",
              "      <td>Reason_4</td>\n",
              "      <td>0.823960</td>\n",
              "    </tr>\n",
              "    <tr>\n",
              "      <th>4</th>\n",
              "      <td>Transportation Expense</td>\n",
              "      <td>0.562491</td>\n",
              "    </tr>\n",
              "    <tr>\n",
              "      <th>5</th>\n",
              "      <td>Distance to Work</td>\n",
              "      <td>0.024412</td>\n",
              "    </tr>\n",
              "    <tr>\n",
              "      <th>6</th>\n",
              "      <td>Age</td>\n",
              "      <td>-0.120117</td>\n",
              "    </tr>\n",
              "    <tr>\n",
              "      <th>7</th>\n",
              "      <td>Daily Work Load Average</td>\n",
              "      <td>-0.067782</td>\n",
              "    </tr>\n",
              "    <tr>\n",
              "      <th>8</th>\n",
              "      <td>Body Mass Index</td>\n",
              "      <td>0.244801</td>\n",
              "    </tr>\n",
              "    <tr>\n",
              "      <th>9</th>\n",
              "      <td>Education</td>\n",
              "      <td>-0.177506</td>\n",
              "    </tr>\n",
              "    <tr>\n",
              "      <th>10</th>\n",
              "      <td>Children</td>\n",
              "      <td>0.473131</td>\n",
              "    </tr>\n",
              "    <tr>\n",
              "      <th>11</th>\n",
              "      <td>Pets</td>\n",
              "      <td>-0.304964</td>\n",
              "    </tr>\n",
              "    <tr>\n",
              "      <th>12</th>\n",
              "      <td>Month Value</td>\n",
              "      <td>0.115362</td>\n",
              "    </tr>\n",
              "    <tr>\n",
              "      <th>13</th>\n",
              "      <td>Day of the Week</td>\n",
              "      <td>-0.177823</td>\n",
              "    </tr>\n",
              "  </tbody>\n",
              "</table>\n",
              "</div>"
            ],
            "text/plain": [
              "               Feature Name  Coefficient\n",
              "0                  Reason_1     2.790113\n",
              "1                  Reason_2     1.034085\n",
              "2                  Reason_3     2.737330\n",
              "3                  Reason_4     0.823960\n",
              "4    Transportation Expense     0.562491\n",
              "5          Distance to Work     0.024412\n",
              "6                       Age    -0.120117\n",
              "7   Daily Work Load Average    -0.067782\n",
              "8           Body Mass Index     0.244801\n",
              "9                 Education    -0.177506\n",
              "10                 Children     0.473131\n",
              "11                     Pets    -0.304964\n",
              "12              Month Value     0.115362\n",
              "13          Day of the Week    -0.177823"
            ]
          },
          "execution_count": 68,
          "metadata": {},
          "output_type": "execute_result"
        }
      ],
      "source": [
        "# Make df to show better:\n",
        "feature_name = unscaled_inputs.columns\n",
        "summary_table = pd.DataFrame(data=feature_name,columns=[\"Feature Name\"])\n",
        "summary_table[\"Coefficient\"] = reg.coef_.T\n",
        "summary_table"
      ]
    },
    {
      "cell_type": "code",
      "execution_count": null,
      "metadata": {
        "id": "IXzoB8yL1KGI",
        "outputId": "e1569c07-d5b2-4db8-905a-614b6f0e491f"
      },
      "outputs": [
        {
          "data": {
            "text/html": [
              "<div>\n",
              "<style scoped>\n",
              "    .dataframe tbody tr th:only-of-type {\n",
              "        vertical-align: middle;\n",
              "    }\n",
              "\n",
              "    .dataframe tbody tr th {\n",
              "        vertical-align: top;\n",
              "    }\n",
              "\n",
              "    .dataframe thead th {\n",
              "        text-align: right;\n",
              "    }\n",
              "</style>\n",
              "<table border=\"1\" class=\"dataframe\">\n",
              "  <thead>\n",
              "    <tr style=\"text-align: right;\">\n",
              "      <th></th>\n",
              "      <th>Feature Name</th>\n",
              "      <th>Coefficient</th>\n",
              "    </tr>\n",
              "  </thead>\n",
              "  <tbody>\n",
              "    <tr>\n",
              "      <th>0</th>\n",
              "      <td>Intercept</td>\n",
              "      <td>-1.552088</td>\n",
              "    </tr>\n",
              "    <tr>\n",
              "      <th>1</th>\n",
              "      <td>Reason_1</td>\n",
              "      <td>2.790113</td>\n",
              "    </tr>\n",
              "    <tr>\n",
              "      <th>2</th>\n",
              "      <td>Reason_2</td>\n",
              "      <td>1.034085</td>\n",
              "    </tr>\n",
              "    <tr>\n",
              "      <th>3</th>\n",
              "      <td>Reason_3</td>\n",
              "      <td>2.737330</td>\n",
              "    </tr>\n",
              "    <tr>\n",
              "      <th>4</th>\n",
              "      <td>Reason_4</td>\n",
              "      <td>0.823960</td>\n",
              "    </tr>\n",
              "    <tr>\n",
              "      <th>5</th>\n",
              "      <td>Transportation Expense</td>\n",
              "      <td>0.562491</td>\n",
              "    </tr>\n",
              "    <tr>\n",
              "      <th>6</th>\n",
              "      <td>Distance to Work</td>\n",
              "      <td>0.024412</td>\n",
              "    </tr>\n",
              "    <tr>\n",
              "      <th>7</th>\n",
              "      <td>Age</td>\n",
              "      <td>-0.120117</td>\n",
              "    </tr>\n",
              "    <tr>\n",
              "      <th>8</th>\n",
              "      <td>Daily Work Load Average</td>\n",
              "      <td>-0.067782</td>\n",
              "    </tr>\n",
              "    <tr>\n",
              "      <th>9</th>\n",
              "      <td>Body Mass Index</td>\n",
              "      <td>0.244801</td>\n",
              "    </tr>\n",
              "    <tr>\n",
              "      <th>10</th>\n",
              "      <td>Education</td>\n",
              "      <td>-0.177506</td>\n",
              "    </tr>\n",
              "    <tr>\n",
              "      <th>11</th>\n",
              "      <td>Children</td>\n",
              "      <td>0.473131</td>\n",
              "    </tr>\n",
              "    <tr>\n",
              "      <th>12</th>\n",
              "      <td>Pets</td>\n",
              "      <td>-0.304964</td>\n",
              "    </tr>\n",
              "    <tr>\n",
              "      <th>13</th>\n",
              "      <td>Month Value</td>\n",
              "      <td>0.115362</td>\n",
              "    </tr>\n",
              "    <tr>\n",
              "      <th>14</th>\n",
              "      <td>Day of the Week</td>\n",
              "      <td>-0.177823</td>\n",
              "    </tr>\n",
              "  </tbody>\n",
              "</table>\n",
              "</div>"
            ],
            "text/plain": [
              "               Feature Name  Coefficient\n",
              "0                 Intercept    -1.552088\n",
              "1                  Reason_1     2.790113\n",
              "2                  Reason_2     1.034085\n",
              "3                  Reason_3     2.737330\n",
              "4                  Reason_4     0.823960\n",
              "5    Transportation Expense     0.562491\n",
              "6          Distance to Work     0.024412\n",
              "7                       Age    -0.120117\n",
              "8   Daily Work Load Average    -0.067782\n",
              "9           Body Mass Index     0.244801\n",
              "10                Education    -0.177506\n",
              "11                 Children     0.473131\n",
              "12                     Pets    -0.304964\n",
              "13              Month Value     0.115362\n",
              "14          Day of the Week    -0.177823"
            ]
          },
          "execution_count": 69,
          "metadata": {},
          "output_type": "execute_result"
        }
      ],
      "source": [
        "# add intercept:\n",
        "summary_table.index = summary_table.index + 1\n",
        "summary_table.loc[0] = [\"Intercept\", reg.intercept_[0]]\n",
        "summary_table = summary_table.sort_index()\n",
        "summary_table"
      ]
    },
    {
      "cell_type": "markdown",
      "metadata": {
        "id": "HXXqHGt-1KGI"
      },
      "source": [
        "* Whichever weights/coefficient is bigger, its correspending feature is more important.\n",
        "\n",
        "<hr> "
      ]
    },
    {
      "cell_type": "markdown",
      "metadata": {
        "id": "2C4F-5d51KGI"
      },
      "source": [
        "### Interpreting The Logistic Regression Coeff."
      ]
    },
    {
      "cell_type": "markdown",
      "metadata": {
        "id": "SaFptc-C1KGI"
      },
      "source": [
        "* log(odds) = intercept + b1x1 + b2x2 + b3x3 + .... + b14x14"
      ]
    },
    {
      "cell_type": "code",
      "execution_count": null,
      "metadata": {
        "id": "4b94LPX51KGI",
        "outputId": "9da12b3b-b63a-44bc-bafd-1f31ad258e81"
      },
      "outputs": [
        {
          "data": {
            "text/html": [
              "<div>\n",
              "<style scoped>\n",
              "    .dataframe tbody tr th:only-of-type {\n",
              "        vertical-align: middle;\n",
              "    }\n",
              "\n",
              "    .dataframe tbody tr th {\n",
              "        vertical-align: top;\n",
              "    }\n",
              "\n",
              "    .dataframe thead th {\n",
              "        text-align: right;\n",
              "    }\n",
              "</style>\n",
              "<table border=\"1\" class=\"dataframe\">\n",
              "  <thead>\n",
              "    <tr style=\"text-align: right;\">\n",
              "      <th></th>\n",
              "      <th>Feature Name</th>\n",
              "      <th>Coefficient</th>\n",
              "      <th>Odds_ratio</th>\n",
              "    </tr>\n",
              "  </thead>\n",
              "  <tbody>\n",
              "    <tr>\n",
              "      <th>0</th>\n",
              "      <td>Intercept</td>\n",
              "      <td>-1.552088</td>\n",
              "      <td>0.211805</td>\n",
              "    </tr>\n",
              "    <tr>\n",
              "      <th>1</th>\n",
              "      <td>Reason_1</td>\n",
              "      <td>2.790113</td>\n",
              "      <td>16.282859</td>\n",
              "    </tr>\n",
              "    <tr>\n",
              "      <th>2</th>\n",
              "      <td>Reason_2</td>\n",
              "      <td>1.034085</td>\n",
              "      <td>2.812531</td>\n",
              "    </tr>\n",
              "    <tr>\n",
              "      <th>3</th>\n",
              "      <td>Reason_3</td>\n",
              "      <td>2.737330</td>\n",
              "      <td>15.445688</td>\n",
              "    </tr>\n",
              "    <tr>\n",
              "      <th>4</th>\n",
              "      <td>Reason_4</td>\n",
              "      <td>0.823960</td>\n",
              "      <td>2.279509</td>\n",
              "    </tr>\n",
              "    <tr>\n",
              "      <th>5</th>\n",
              "      <td>Transportation Expense</td>\n",
              "      <td>0.562491</td>\n",
              "      <td>1.755039</td>\n",
              "    </tr>\n",
              "    <tr>\n",
              "      <th>6</th>\n",
              "      <td>Distance to Work</td>\n",
              "      <td>0.024412</td>\n",
              "      <td>1.024712</td>\n",
              "    </tr>\n",
              "    <tr>\n",
              "      <th>7</th>\n",
              "      <td>Age</td>\n",
              "      <td>-0.120117</td>\n",
              "      <td>0.886817</td>\n",
              "    </tr>\n",
              "    <tr>\n",
              "      <th>8</th>\n",
              "      <td>Daily Work Load Average</td>\n",
              "      <td>-0.067782</td>\n",
              "      <td>0.934464</td>\n",
              "    </tr>\n",
              "    <tr>\n",
              "      <th>9</th>\n",
              "      <td>Body Mass Index</td>\n",
              "      <td>0.244801</td>\n",
              "      <td>1.277367</td>\n",
              "    </tr>\n",
              "    <tr>\n",
              "      <th>10</th>\n",
              "      <td>Education</td>\n",
              "      <td>-0.177506</td>\n",
              "      <td>0.837356</td>\n",
              "    </tr>\n",
              "    <tr>\n",
              "      <th>11</th>\n",
              "      <td>Children</td>\n",
              "      <td>0.473131</td>\n",
              "      <td>1.605012</td>\n",
              "    </tr>\n",
              "    <tr>\n",
              "      <th>12</th>\n",
              "      <td>Pets</td>\n",
              "      <td>-0.304964</td>\n",
              "      <td>0.737150</td>\n",
              "    </tr>\n",
              "    <tr>\n",
              "      <th>13</th>\n",
              "      <td>Month Value</td>\n",
              "      <td>0.115362</td>\n",
              "      <td>1.122279</td>\n",
              "    </tr>\n",
              "    <tr>\n",
              "      <th>14</th>\n",
              "      <td>Day of the Week</td>\n",
              "      <td>-0.177823</td>\n",
              "      <td>0.837091</td>\n",
              "    </tr>\n",
              "  </tbody>\n",
              "</table>\n",
              "</div>"
            ],
            "text/plain": [
              "               Feature Name  Coefficient  Odds_ratio\n",
              "0                 Intercept    -1.552088    0.211805\n",
              "1                  Reason_1     2.790113   16.282859\n",
              "2                  Reason_2     1.034085    2.812531\n",
              "3                  Reason_3     2.737330   15.445688\n",
              "4                  Reason_4     0.823960    2.279509\n",
              "5    Transportation Expense     0.562491    1.755039\n",
              "6          Distance to Work     0.024412    1.024712\n",
              "7                       Age    -0.120117    0.886817\n",
              "8   Daily Work Load Average    -0.067782    0.934464\n",
              "9           Body Mass Index     0.244801    1.277367\n",
              "10                Education    -0.177506    0.837356\n",
              "11                 Children     0.473131    1.605012\n",
              "12                     Pets    -0.304964    0.737150\n",
              "13              Month Value     0.115362    1.122279\n",
              "14          Day of the Week    -0.177823    0.837091"
            ]
          },
          "execution_count": 70,
          "metadata": {},
          "output_type": "execute_result"
        }
      ],
      "source": [
        "summary_table[\"Odds_ratio\"] = np.exp(summary_table.Coefficient)\n",
        "summary_table"
      ]
    },
    {
      "cell_type": "code",
      "execution_count": null,
      "metadata": {
        "id": "L5ImcsvD1KGI",
        "outputId": "17416144-4102-4059-9183-fcd68e227bcf"
      },
      "outputs": [
        {
          "data": {
            "text/html": [
              "<div>\n",
              "<style scoped>\n",
              "    .dataframe tbody tr th:only-of-type {\n",
              "        vertical-align: middle;\n",
              "    }\n",
              "\n",
              "    .dataframe tbody tr th {\n",
              "        vertical-align: top;\n",
              "    }\n",
              "\n",
              "    .dataframe thead th {\n",
              "        text-align: right;\n",
              "    }\n",
              "</style>\n",
              "<table border=\"1\" class=\"dataframe\">\n",
              "  <thead>\n",
              "    <tr style=\"text-align: right;\">\n",
              "      <th></th>\n",
              "      <th>Feature Name</th>\n",
              "      <th>Coefficient</th>\n",
              "      <th>Odds_ratio</th>\n",
              "    </tr>\n",
              "  </thead>\n",
              "  <tbody>\n",
              "    <tr>\n",
              "      <th>1</th>\n",
              "      <td>Reason_1</td>\n",
              "      <td>2.790113</td>\n",
              "      <td>16.282859</td>\n",
              "    </tr>\n",
              "    <tr>\n",
              "      <th>3</th>\n",
              "      <td>Reason_3</td>\n",
              "      <td>2.737330</td>\n",
              "      <td>15.445688</td>\n",
              "    </tr>\n",
              "    <tr>\n",
              "      <th>2</th>\n",
              "      <td>Reason_2</td>\n",
              "      <td>1.034085</td>\n",
              "      <td>2.812531</td>\n",
              "    </tr>\n",
              "    <tr>\n",
              "      <th>4</th>\n",
              "      <td>Reason_4</td>\n",
              "      <td>0.823960</td>\n",
              "      <td>2.279509</td>\n",
              "    </tr>\n",
              "    <tr>\n",
              "      <th>5</th>\n",
              "      <td>Transportation Expense</td>\n",
              "      <td>0.562491</td>\n",
              "      <td>1.755039</td>\n",
              "    </tr>\n",
              "    <tr>\n",
              "      <th>11</th>\n",
              "      <td>Children</td>\n",
              "      <td>0.473131</td>\n",
              "      <td>1.605012</td>\n",
              "    </tr>\n",
              "    <tr>\n",
              "      <th>9</th>\n",
              "      <td>Body Mass Index</td>\n",
              "      <td>0.244801</td>\n",
              "      <td>1.277367</td>\n",
              "    </tr>\n",
              "    <tr>\n",
              "      <th>13</th>\n",
              "      <td>Month Value</td>\n",
              "      <td>0.115362</td>\n",
              "      <td>1.122279</td>\n",
              "    </tr>\n",
              "    <tr>\n",
              "      <th>6</th>\n",
              "      <td>Distance to Work</td>\n",
              "      <td>0.024412</td>\n",
              "      <td>1.024712</td>\n",
              "    </tr>\n",
              "    <tr>\n",
              "      <th>8</th>\n",
              "      <td>Daily Work Load Average</td>\n",
              "      <td>-0.067782</td>\n",
              "      <td>0.934464</td>\n",
              "    </tr>\n",
              "    <tr>\n",
              "      <th>7</th>\n",
              "      <td>Age</td>\n",
              "      <td>-0.120117</td>\n",
              "      <td>0.886817</td>\n",
              "    </tr>\n",
              "    <tr>\n",
              "      <th>10</th>\n",
              "      <td>Education</td>\n",
              "      <td>-0.177506</td>\n",
              "      <td>0.837356</td>\n",
              "    </tr>\n",
              "    <tr>\n",
              "      <th>14</th>\n",
              "      <td>Day of the Week</td>\n",
              "      <td>-0.177823</td>\n",
              "      <td>0.837091</td>\n",
              "    </tr>\n",
              "    <tr>\n",
              "      <th>12</th>\n",
              "      <td>Pets</td>\n",
              "      <td>-0.304964</td>\n",
              "      <td>0.737150</td>\n",
              "    </tr>\n",
              "    <tr>\n",
              "      <th>0</th>\n",
              "      <td>Intercept</td>\n",
              "      <td>-1.552088</td>\n",
              "      <td>0.211805</td>\n",
              "    </tr>\n",
              "  </tbody>\n",
              "</table>\n",
              "</div>"
            ],
            "text/plain": [
              "               Feature Name  Coefficient  Odds_ratio\n",
              "1                  Reason_1     2.790113   16.282859\n",
              "3                  Reason_3     2.737330   15.445688\n",
              "2                  Reason_2     1.034085    2.812531\n",
              "4                  Reason_4     0.823960    2.279509\n",
              "5    Transportation Expense     0.562491    1.755039\n",
              "11                 Children     0.473131    1.605012\n",
              "9           Body Mass Index     0.244801    1.277367\n",
              "13              Month Value     0.115362    1.122279\n",
              "6          Distance to Work     0.024412    1.024712\n",
              "8   Daily Work Load Average    -0.067782    0.934464\n",
              "7                       Age    -0.120117    0.886817\n",
              "10                Education    -0.177506    0.837356\n",
              "14          Day of the Week    -0.177823    0.837091\n",
              "12                     Pets    -0.304964    0.737150\n",
              "0                 Intercept    -1.552088    0.211805"
            ]
          },
          "execution_count": 71,
          "metadata": {},
          "output_type": "execute_result"
        }
      ],
      "source": [
        "summary_table.sort_values(\"Odds_ratio\", ascending=False)"
      ]
    },
    {
      "cell_type": "markdown",
      "metadata": {
        "id": "cusz5RMB1KGJ"
      },
      "source": [
        "### A feature is not particularly important:\n",
        "* if its coeff is around 0\n",
        "* if its odds ratio is around 1\n",
        "\n",
        "#### So you can consider to drop these features: Education, Month Value, Distance to Work\n",
        "<hr>"
      ]
    },
    {
      "cell_type": "markdown",
      "metadata": {
        "id": "us0R9rCL1KGJ"
      },
      "source": [
        "### Interpreting The Important Features"
      ]
    },
    {
      "cell_type": "markdown",
      "metadata": {
        "id": "doucLNCX1KGJ"
      },
      "source": [
        "* Reason_1 : various diseases\n",
        "* Reason_2 : pragnancy and giving birth\n",
        "* Reason_3 : poising\n",
        "* Reason_4 : light diseases"
      ]
    },
    {
      "cell_type": "markdown",
      "metadata": {
        "id": "LBj8QRix1KGJ"
      },
      "source": [
        "### Test The Model\n",
        "* Often the test accuracy is 10-20% lower than the train accuracy (due to overfitting) "
      ]
    },
    {
      "cell_type": "code",
      "execution_count": null,
      "metadata": {
        "id": "ym62XTM31KGJ",
        "outputId": "072d7140-46ad-4b3d-b35a-155c011fdc14"
      },
      "outputs": [
        {
          "data": {
            "text/plain": [
              "0.7410071942446043"
            ]
          },
          "execution_count": 72,
          "metadata": {},
          "output_type": "execute_result"
        }
      ],
      "source": [
        "reg.score(x_test, y_test)"
      ]
    },
    {
      "cell_type": "code",
      "execution_count": null,
      "metadata": {
        "id": "nOJH1mXV1KGJ",
        "outputId": "d0e5a9e3-ff19-41d7-ea85-6d4e944cdf78"
      },
      "outputs": [
        {
          "data": {
            "text/plain": [
              "array([[0.70058726, 0.29941274],\n",
              "       [0.29611565, 0.70388435],\n",
              "       [0.50148666, 0.49851334],\n",
              "       [0.281531  , 0.718469  ],\n",
              "       [0.61671575, 0.38328425],\n",
              "       [0.84372762, 0.15627238],\n",
              "       [0.86687965, 0.13312035],\n",
              "       [0.43392536, 0.56607464],\n",
              "       [0.59026464, 0.40973536],\n",
              "       [0.48498592, 0.51501408],\n",
              "       [0.79879643, 0.20120357],\n",
              "       [0.47688986, 0.52311014],\n",
              "       [0.16185058, 0.83814942],\n",
              "       [0.82585034, 0.17414966],\n",
              "       [0.79310042, 0.20689958],\n",
              "       [0.89407055, 0.10592945],\n",
              "       [0.65005595, 0.34994405],\n",
              "       [0.77120817, 0.22879183],\n",
              "       [0.72441414, 0.27558586],\n",
              "       [0.38718603, 0.61281397],\n",
              "       [0.55962961, 0.44037039],\n",
              "       [0.89407055, 0.10592945],\n",
              "       [0.76414812, 0.23585188],\n",
              "       [0.2334685 , 0.7665315 ],\n",
              "       [0.14921487, 0.85078513],\n",
              "       [0.62003794, 0.37996206],\n",
              "       [0.74076341, 0.25923659],\n",
              "       [0.87699765, 0.12300235],\n",
              "       [0.29180124, 0.70819876],\n",
              "       [0.76965496, 0.23034504],\n",
              "       [0.89479683, 0.10520317],\n",
              "       [0.34616493, 0.65383507],\n",
              "       [0.62559533, 0.37440467],\n",
              "       [0.89646969, 0.10353031],\n",
              "       [0.79512623, 0.20487377],\n",
              "       [0.89022921, 0.10977079],\n",
              "       [0.74691883, 0.25308117],\n",
              "       [0.62102865, 0.37897135],\n",
              "       [0.64691535, 0.35308465],\n",
              "       [0.65248793, 0.34751207],\n",
              "       [0.20043568, 0.79956432],\n",
              "       [0.50366376, 0.49633624],\n",
              "       [0.7445294 , 0.2554706 ],\n",
              "       [0.13966045, 0.86033955],\n",
              "       [0.74782711, 0.25217289],\n",
              "       [0.55896229, 0.44103771],\n",
              "       [0.75768198, 0.24231802],\n",
              "       [0.81433531, 0.18566469],\n",
              "       [0.69847725, 0.30152275],\n",
              "       [0.73343081, 0.26656919],\n",
              "       [0.10082059, 0.89917941],\n",
              "       [0.72616386, 0.27383614],\n",
              "       [0.51777649, 0.48222351],\n",
              "       [0.12915021, 0.87084979],\n",
              "       [0.55463657, 0.44536343],\n",
              "       [0.6636207 , 0.3363793 ],\n",
              "       [0.61764373, 0.38235627],\n",
              "       [0.27219851, 0.72780149],\n",
              "       [0.09760799, 0.90239201],\n",
              "       [0.18456831, 0.81543169],\n",
              "       [0.40316109, 0.59683891],\n",
              "       [0.19610629, 0.80389371],\n",
              "       [0.83492002, 0.16507998],\n",
              "       [0.15225789, 0.84774211],\n",
              "       [0.73913318, 0.26086682],\n",
              "       [0.10956202, 0.89043798],\n",
              "       [0.51796192, 0.48203808],\n",
              "       [0.32039616, 0.67960384],\n",
              "       [0.91458605, 0.08541395],\n",
              "       [0.82344379, 0.17655621],\n",
              "       [0.70058726, 0.29941274],\n",
              "       [0.32420509, 0.67579491],\n",
              "       [0.48312643, 0.51687357],\n",
              "       [0.35063823, 0.64936177],\n",
              "       [0.4740601 , 0.5259399 ],\n",
              "       [0.16212032, 0.83787968],\n",
              "       [0.23892465, 0.76107535],\n",
              "       [0.5237291 , 0.4762709 ],\n",
              "       [0.13337178, 0.86662822],\n",
              "       [0.70964589, 0.29035411],\n",
              "       [0.5609582 , 0.4390418 ],\n",
              "       [0.70796603, 0.29203397],\n",
              "       [0.72744349, 0.27255651],\n",
              "       [0.42808532, 0.57191468],\n",
              "       [0.52127007, 0.47872993],\n",
              "       [0.86450057, 0.13549943],\n",
              "       [0.80289983, 0.19710017],\n",
              "       [0.69062405, 0.30937595],\n",
              "       [0.58420546, 0.41579454],\n",
              "       [0.66496319, 0.33503681],\n",
              "       [0.85831378, 0.14168622],\n",
              "       [0.80347243, 0.19652757],\n",
              "       [0.19610629, 0.80389371],\n",
              "       [0.69077863, 0.30922137],\n",
              "       [0.79512623, 0.20487377],\n",
              "       [0.31286348, 0.68713652],\n",
              "       [0.8301412 , 0.1698588 ],\n",
              "       [0.7343222 , 0.2656778 ],\n",
              "       [0.60701952, 0.39298048],\n",
              "       [0.77178688, 0.22821312],\n",
              "       [0.29944416, 0.70055584],\n",
              "       [0.62219462, 0.37780538],\n",
              "       [0.10406037, 0.89593963],\n",
              "       [0.43691174, 0.56308826],\n",
              "       [0.67018584, 0.32981416],\n",
              "       [0.06542767, 0.93457233],\n",
              "       [0.1024558 , 0.8975442 ],\n",
              "       [0.48866414, 0.51133586],\n",
              "       [0.4402187 , 0.5597813 ],\n",
              "       [0.46867874, 0.53132126],\n",
              "       [0.86771548, 0.13228452],\n",
              "       [0.78516341, 0.21483659],\n",
              "       [0.70064203, 0.29935797],\n",
              "       [0.35560955, 0.64439045],\n",
              "       [0.55744036, 0.44255964],\n",
              "       [0.13148269, 0.86851731],\n",
              "       [0.18959783, 0.81040217],\n",
              "       [0.38767453, 0.61232547],\n",
              "       [0.20928683, 0.79071317],\n",
              "       [0.36921054, 0.63078946],\n",
              "       [0.05720506, 0.94279494],\n",
              "       [0.74153862, 0.25846138],\n",
              "       [0.39201572, 0.60798428],\n",
              "       [0.39050391, 0.60949609],\n",
              "       [0.77764578, 0.22235422],\n",
              "       [0.79453552, 0.20546448],\n",
              "       [0.50200837, 0.49799163],\n",
              "       [0.15046665, 0.84953335],\n",
              "       [0.7170057 , 0.2829943 ],\n",
              "       [0.53384011, 0.46615989],\n",
              "       [0.68771518, 0.31228482],\n",
              "       [0.53333847, 0.46666153],\n",
              "       [0.67405082, 0.32594918],\n",
              "       [0.39483649, 0.60516351],\n",
              "       [0.24040776, 0.75959224],\n",
              "       [0.68839357, 0.31160643],\n",
              "       [0.7662902 , 0.2337098 ],\n",
              "       [0.76602757, 0.23397243],\n",
              "       [0.74639955, 0.25360045]])"
            ]
          },
          "execution_count": 73,
          "metadata": {},
          "output_type": "execute_result"
        }
      ],
      "source": [
        "# predict_proba(x) : returns the probability estimates for all possible outputs\n",
        "predict_proba = reg.predict_proba(x_test)\n",
        "predict_proba"
      ]
    },
    {
      "cell_type": "code",
      "execution_count": null,
      "metadata": {
        "id": "DxxCb0zY1KGJ",
        "outputId": "555d625d-0449-474c-bf33-6ef3361149bd"
      },
      "outputs": [
        {
          "data": {
            "text/plain": [
              "(1.0, 1.0)"
            ]
          },
          "execution_count": 74,
          "metadata": {},
          "output_type": "execute_result"
        }
      ],
      "source": [
        "# see sum is 1\n",
        "0.72033435 + 0.27966565, 0.87854892 + 0.12145108"
      ]
    },
    {
      "cell_type": "code",
      "execution_count": null,
      "metadata": {
        "id": "_v_lcqvZ1KGJ",
        "outputId": "c376ae56-57de-4646-ca21-4e47bb0ea6a5"
      },
      "outputs": [
        {
          "data": {
            "text/plain": [
              "(139, 2)"
            ]
          },
          "execution_count": 75,
          "metadata": {},
          "output_type": "execute_result"
        }
      ],
      "source": [
        "# 1. column: probality of being 0\n",
        "# 2. column: probality of being 1\n",
        "predict_proba.shape"
      ]
    },
    {
      "cell_type": "markdown",
      "metadata": {
        "id": "rxaU5m-01KGJ"
      },
      "source": [
        "* if the probality is:\n",
        "  * below 0.5, it places a 0\n",
        "  * above 0.5, it places a 1"
      ]
    },
    {
      "cell_type": "code",
      "execution_count": null,
      "metadata": {
        "id": "cp2E2u-x1KGJ",
        "outputId": "ce28ec05-e3e5-46de-b675-bcf9f985d5d1"
      },
      "outputs": [
        {
          "data": {
            "text/plain": [
              "array([0.29941274, 0.70388435, 0.49851334, 0.718469  , 0.38328425,\n",
              "       0.15627238, 0.13312035, 0.56607464, 0.40973536, 0.51501408,\n",
              "       0.20120357, 0.52311014, 0.83814942, 0.17414966, 0.20689958,\n",
              "       0.10592945, 0.34994405, 0.22879183, 0.27558586, 0.61281397,\n",
              "       0.44037039, 0.10592945, 0.23585188, 0.7665315 , 0.85078513,\n",
              "       0.37996206, 0.25923659, 0.12300235, 0.70819876, 0.23034504,\n",
              "       0.10520317, 0.65383507, 0.37440467, 0.10353031, 0.20487377,\n",
              "       0.10977079, 0.25308117, 0.37897135, 0.35308465, 0.34751207,\n",
              "       0.79956432, 0.49633624, 0.2554706 , 0.86033955, 0.25217289,\n",
              "       0.44103771, 0.24231802, 0.18566469, 0.30152275, 0.26656919,\n",
              "       0.89917941, 0.27383614, 0.48222351, 0.87084979, 0.44536343,\n",
              "       0.3363793 , 0.38235627, 0.72780149, 0.90239201, 0.81543169,\n",
              "       0.59683891, 0.80389371, 0.16507998, 0.84774211, 0.26086682,\n",
              "       0.89043798, 0.48203808, 0.67960384, 0.08541395, 0.17655621,\n",
              "       0.29941274, 0.67579491, 0.51687357, 0.64936177, 0.5259399 ,\n",
              "       0.83787968, 0.76107535, 0.4762709 , 0.86662822, 0.29035411,\n",
              "       0.4390418 , 0.29203397, 0.27255651, 0.57191468, 0.47872993,\n",
              "       0.13549943, 0.19710017, 0.30937595, 0.41579454, 0.33503681,\n",
              "       0.14168622, 0.19652757, 0.80389371, 0.30922137, 0.20487377,\n",
              "       0.68713652, 0.1698588 , 0.2656778 , 0.39298048, 0.22821312,\n",
              "       0.70055584, 0.37780538, 0.89593963, 0.56308826, 0.32981416,\n",
              "       0.93457233, 0.8975442 , 0.51133586, 0.5597813 , 0.53132126,\n",
              "       0.13228452, 0.21483659, 0.29935797, 0.64439045, 0.44255964,\n",
              "       0.86851731, 0.81040217, 0.61232547, 0.79071317, 0.63078946,\n",
              "       0.94279494, 0.25846138, 0.60798428, 0.60949609, 0.22235422,\n",
              "       0.20546448, 0.49799163, 0.84953335, 0.2829943 , 0.46615989,\n",
              "       0.31228482, 0.46666153, 0.32594918, 0.60516351, 0.75959224,\n",
              "       0.31160643, 0.2337098 , 0.23397243, 0.25360045])"
            ]
          },
          "execution_count": 76,
          "metadata": {},
          "output_type": "execute_result"
        }
      ],
      "source": [
        "predict_proba[:,1]"
      ]
    },
    {
      "cell_type": "markdown",
      "metadata": {
        "id": "kjd-7Yop1KGK"
      },
      "source": [
        "<a id = \"17\"></a><br>\n",
        "## Save The Model"
      ]
    },
    {
      "cell_type": "code",
      "execution_count": null,
      "metadata": {
        "id": "bKViuEU51KGK"
      },
      "outputs": [],
      "source": [
        "import pickle"
      ]
    },
    {
      "cell_type": "code",
      "execution_count": null,
      "metadata": {
        "id": "JSdhWzVx1KGK"
      },
      "outputs": [],
      "source": [
        "# model: file name / wb: write bites / dump:save\n",
        "with open(\"model\", \"wb\") as file:\n",
        "    pickle.dump(reg,file)"
      ]
    },
    {
      "cell_type": "markdown",
      "metadata": {
        "id": "QZySJWUF1KGK"
      },
      "source": [
        "### Save The Scale"
      ]
    },
    {
      "cell_type": "code",
      "execution_count": null,
      "metadata": {
        "id": "dOA91arS1KGK"
      },
      "outputs": [],
      "source": [
        "with open(\"model_2\", \"wb\") as file_2:\n",
        "    pickle.dump(sc,file_2)"
      ]
    },
    {
      "cell_type": "markdown",
      "metadata": {
        "id": "IZQco4Co1KGK"
      },
      "source": [
        "### See The Files"
      ]
    },
    {
      "cell_type": "code",
      "execution_count": null,
      "metadata": {
        "id": "LS4YjhtN1KGK",
        "outputId": "1c5a15a0-2c12-462f-ea25-5396e629d5b0"
      },
      "outputs": [
        {
          "data": {
            "text/html": [
              "./<br>\n",
              "&nbsp;&nbsp;<a href='./model' target='_blank'>model</a><br>\n",
              "&nbsp;&nbsp;<a href='./model_2' target='_blank'>model_2</a><br>\n",
              "&nbsp;&nbsp;<a href='./__notebook__.ipynb' target='_blank'>__notebook__.ipynb</a><br>"
            ],
            "text/plain": [
              "./\n",
              "  model\n",
              "  model_2\n",
              "  __notebook__.ipynb"
            ]
          },
          "execution_count": 80,
          "metadata": {},
          "output_type": "execute_result"
        }
      ],
      "source": [
        "from IPython.display import FileLink, FileLinks\n",
        "FileLinks('.') #lists all downloadable files on server"
      ]
    },
    {
      "cell_type": "code",
      "execution_count": null,
      "metadata": {
        "id": "plu_DdT21KGK"
      },
      "outputs": [],
      "source": []
    }
  ],
  "metadata": {
    "kernelspec": {
      "display_name": "Python 3",
      "language": "python",
      "name": "python3"
    },
    "language_info": {
      "codemirror_mode": {
        "name": "ipython",
        "version": 3
      },
      "file_extension": ".py",
      "mimetype": "text/x-python",
      "name": "python",
      "nbconvert_exporter": "python",
      "pygments_lexer": "ipython3",
      "version": "3.7.6"
    },
    "colab": {
      "provenance": [],
      "include_colab_link": true
    }
  },
  "nbformat": 4,
  "nbformat_minor": 0
}